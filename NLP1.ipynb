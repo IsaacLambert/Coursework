{
 "cells": [
  {
   "cell_type": "markdown",
   "metadata": {},
   "source": [
    "# Question 1"
   ]
  },
  {
   "cell_type": "markdown",
   "metadata": {},
   "source": [
    "Several NLP systems are as follows: information extraction (IE); conversational agents (CAs); machine translation (MT); language modelling (LM); text classification (TC); and sentiment analysis (SA). These systems and their applications will now be explicated in further detail. \n",
    "\n",
    "IE is the process of extracting meaning or information from raw unstructured text. The meaning could aim to identify key pattens or larger contexts. One such example could be forming a list of geographical locations from a tourism document to identify popular destinations. Since the vast majority of language based data is unstructured, IE is a vital technique. Prior to inferring meaning, text mining must take place which is the process of structuring text, often in a tabular form. There are many possible sources of the raw text. Some examples are articles, social media or reviews.\n",
    "\n",
    "CAs are used in conjunction with speech recognition systems to perform various tasks. They often incorporate question-answering systems. Such tasks could include playing a specified song or setting reminders. In some cases CA may be deployed not for practical gain but simply to be capable of discussing a topic on which they are trained, say films.\n",
    "\n",
    "MT is the process by which text in one language is translated into another. It is often used in conjunction with other NLP processes. For example, when performing SA, ML could be used to determine the sentiment towards an object in multiple languages, not just one. MT began using rule-based systems then statistical systems. Nowadays, it is generally reliant upon deep Neural Networks. A concern for MT is that performance can often be biased towards languages for which there is more digitised text meaning generally western languages. \n",
    "\n",
    "LM uses probabilistic and statistical methods to determine the likelihood of a word or series of words existing within a certain sentence. Again this can be a component of other processes in text generation models like question-answering systems. Another application is the next word prediction tool build into many messaging platforms.\n",
    "\n",
    "TC models have a discrete output, the number of output classes can be two (binary classifier) or more. One example could be the allocation of books to the century they were written where input data is the text from the books and the output classes are the century bands. TC could be viewed as a particular type of information extraction since the allocation of raw documents to classes is a form of structured data which conveys meaning. \n",
    "\n",
    "SA is a particularly important type of TC. In SA the classes are sentiments, positive and negative in a binary system of degrees of classification in a multi-classification system, say 1-5 stars.\n",
    "\n"
   ]
  },
  {
   "cell_type": "markdown",
   "metadata": {},
   "source": [
    "# Question 2"
   ]
  },
  {
   "cell_type": "markdown",
   "metadata": {},
   "source": [
    "There are many sources of ambiguity in natural language. They are all broadly problematic for the same reason. Although this is not always the case we presume a particular sentence or token has one meaning. If we are make accurate predictive judgements, concerning or based upon such text segments, we must discover the singular meaning and eliminate alternatives. This is way a large part of text preprocessing involves text normalisation which aims at disambiguation, that is removing ambiguity. Several types of ambiguity are as follows, these will be elucidated in further detail below: lexical ambiguity (LA); synonyms; semantic ambiguity; syntactic ambiguity; and non-literal speech  ",
    "\n",
    "LA refers to the fact that the same word can refer to multiple objects. For example, the word ‘bark’ can refer to the sound a dog makes or the coating on a tree. Thus, when an NLP algorithm attempts to extract the meaning from a single token it is not always clear what the reference-object thus meaning of said token is. Likewise it might equivocate the same two tokens adding predictive weight to one which doesn’t belong. This is a one to many system. \n",
    "\n",
    "Synonyms complicate NLP since one meaning can be represented by multiple words. In SA for example, the term ‘happy’ may be recognised while the term euphoric, also indicating positive sentiment, may not and not have predictive weight attached. This is a many to one system.\n",
    "\n",
    "Between lexical and synonymic ambiguity, word mapping is a many to many system which is highly complex to navigate. Such a system creates context dependence meaning it is impossible to guarantee the correct meaning has been inferred. \n",
    "\n",
    "Semantics refer to word meanings and semantic ambiguity is another problem for NLP models. As we saw with LA a word can refer to multiple objects yet even when a word refers to one objects it can contain different meanings within sentence segments. For example the phrase ‘the dog’ could refer to a specific dog or the entire species of dogs. This again makes extracting the correct meaning from these tokens extremely challenging and somewhat context dependent. \n",
    "\n",
    "Syntax refers to the grammar or underlying architecture of natural languages. Meaning sometimes depends on the particular syntax of a term of sentence, for example, whether a token is an adjective or adverb or which words are linked. Problematically, however, there are often many way to syntactically break down a statement. For example, in the statement ‘ate a pasta with lettuce from Paris’ the component ‘from Paris’ could attach to the ‘pasta’ component or the ‘lettuce’ component or both. \n",
    "\n",
    "The issue of syntactic ambiguity is compounded due to fact that different languages have different syntax. For example, Chinese often contains no spaces. This could create a challenge for a model classifying the beginning of sentences since there may add predictive weight to spaces. Similarly, German can contain long compound words which would be treated as several tokens in most languages. Inversely, in English sometimes terms are hyphenated to indicate one token yet since preprocessing often strips all punctuation, this composite token would be erroneously split into and treated as two tokens. Since syntax can be an important input feature for models, the non-uniformity of syntax can be a problem for MT in particular. \n",
    "\n",
    "Finally, the various forms of non-literal speech can be problematic for NLP since meaning cannot be taken at face value. In fact they can have the opposite meaning and the issue is not solved by manually tagging them correctly as this may skew the predictions away from the correct output in the case of similar statements where the meaning is literal. Form of non-literal speech include metaphors and irony.  "
   ]
  },
  {
   "cell_type": "code",
   "execution_count": 1,
   "metadata": {},
   "outputs": [],
   "source": [
    "import numpy as np\n",
    "import pandas as pd\n",
    "import re\n",
    "import nltk\n",
    "from nltk.stem import PorterStemmer\n",
    "from nltk.stem import WordNetLemmatizer \n",
    "from nltk.tokenize import word_tokenize\n",
    "from sklearn.model_selection import train_test_split as split\n",
    "from sklearn.feature_extraction.text import TfidfVectorizer\n",
    "from sklearn.naive_bayes import MultinomialNB\n",
    "from sklearn.tree import DecisionTreeClassifier\n",
    "from sklearn.neighbors import KNeighborsClassifier\n",
    "from sklearn.model_selection import KFold, cross_val_score\n",
    "from sklearn.svm import LinearSVC\n",
    "from sklearn.svm import SVC\n",
    "from sklearn.model_selection import GridSearchCV\n",
    "from sklearn.pipeline import Pipeline\n",
    "from sklearn.preprocessing import StandardScaler\n",
    "from sklearn import metrics\n",
    "import matplotlib.pyplot as plt\n",
    "from nltk import MLEProbDist\n",
    "from nltk import FreqDist\n",
    "import matplotlib.pyplot as plt\n",
    "import pylab\n",
    "from tqdm import tqdm\n",
    "import nltk\n",
    "from nltk.lm.preprocessing import padded_everygram_pipeline\n",
    "from nltk.lm import MLE"
   ]
  },
  {
   "cell_type": "markdown",
   "metadata": {},
   "source": [
    "# Question 3"
   ]
  },
  {
   "cell_type": "markdown",
   "metadata": {},
   "source": [
    "This dataset was downloaded from [kaggle](https://www.kaggle.com/datasets/jp797498e/twitter-entity-sentiment-analysis) with the intent of performing sentiment analysis and a frequency distribution over all the tokens."
   ]
  },
  {
   "cell_type": "markdown",
   "metadata": {},
   "source": [
    "# Load the data"
   ]
  },
  {
   "cell_type": "code",
   "execution_count": 2,
   "metadata": {},
   "outputs": [],
   "source": [
    "# Train-test dataset\n",
    "df = pd.read_csv('/Users/isaaclambert/Desktop/twitter_sa/twitter_training.csv')\n",
    "\n",
    "# Validation dataset\n",
    "df_validation = pd.read_csv('/Users/isaaclambert/Desktop/twitter_sa/twitter_validation.csv')"
   ]
  },
  {
   "cell_type": "markdown",
   "metadata": {},
   "source": [
    "# Question 4"
   ]
  },
  {
   "cell_type": "markdown",
   "metadata": {},
   "source": [
    "Tokenization is the process of splitting a language segment into its individual tokens. Tokens are the atomic components of a sentence. Tokens usually refer to the individual words in a sentence yet this is not always the case. As seen above, hyphenated terms can represent one token since although they are two terms, they refer to one family or one object. The collation of the types of tokens in a language corpora constitutes the vocabulary. \n",
    "\n",
    "Lemmatization reduces the various forms of a works to the basic form so that they can be treated as the same token. For example plurals may be made singular and past tenses present. Accordingly, dogs would be come dog and ate would become eat. \n",
    "\n",
    "Morphology analyses how words are composites of smaller components termed morphemes. A morpheme is the minimal component which still contains meaning. Two types of morphemes are stems and affixes. Stems can exist alone (free morpheme) or only in conjunction an affix (bound morpheme). Stems are the root of words to which affixes can be added. Affixes can be inflectional or derivational. Inflectional affixes such as -est simply change the syntactic function of a word while derivational affixes can alter the meaning dramatically, say adding -un.\n",
    "\n",
    "Stemming is the process of reducing words to their stem. This is achieved by removing any affixes."
   ]
  },
  {
   "cell_type": "markdown",
   "metadata": {},
   "source": [
    "# Text Normalization / Preprocessing "
   ]
  },
  {
   "cell_type": "code",
   "execution_count": 3,
   "metadata": {},
   "outputs": [],
   "source": [
    "# Rename columns and insert label values\n",
    "df_renamed = df.rename(columns={\"Positive\": \"Label\", \"im getting on borderlands and i will murder you all ,\"\n",
    ": \"Reviews\"}).replace('Positive', 1).replace('Negative', 0)\n",
    "\n",
    "# Delete unnecessary colums \n",
    "df_no_columns = df_renamed.drop(columns=['Borderlands', '2401'])"
   ]
  },
  {
   "cell_type": "code",
   "execution_count": 4,
   "metadata": {},
   "outputs": [],
   "source": [
    "# Transform into a binary classifcation problem by deleting \"Neutral\" class\n",
    "# Also resets indexes and deltes origional\n",
    "df_binary = df_no_columns[(df_no_columns['Label'] == 0) | (df_no_columns['Label'] == 1)].reset_index(drop=True)"
   ]
  },
  {
   "cell_type": "code",
   "execution_count": 5,
   "metadata": {},
   "outputs": [],
   "source": [
    "#display(df_binary)"
   ]
  },
  {
   "cell_type": "code",
   "execution_count": 6,
   "metadata": {},
   "outputs": [],
   "source": [
    "def labels_to_int_and_text_to_list(df):\n",
    "    '''\n",
    "    ouputs labels df with ints + reviews as a list\n",
    "    '''\n",
    "    # Take columns of just the review and labels\n",
    "    reviews = df['Reviews']\n",
    "    labels_object = df['Label']\n",
    "\n",
    "    # Convert reviews column to list\n",
    "    lst = reviews.tolist()\n",
    "\n",
    "    # Change labels dtype from obj to int\n",
    "    lab2 = labels_object.astype({'Label':'int'})\n",
    "    \n",
    "    return lst, lab2\n"
   ]
  },
  {
   "cell_type": "code",
   "execution_count": 7,
   "metadata": {},
   "outputs": [],
   "source": [
    "# Call function labels_to_int_and_text_to_list\n",
    "reviews_lst, labels = labels_to_int_and_text_to_list(df_binary)"
   ]
  },
  {
   "cell_type": "code",
   "execution_count": 8,
   "metadata": {},
   "outputs": [],
   "source": [
    "def object_type_finder(lst):\n",
    "    '''\n",
    "    Function to determine object types in list \n",
    "    '''\n",
    "    types = [type(i) for i in lst]\n",
    "    return set(types)"
   ]
  },
  {
   "cell_type": "code",
   "execution_count": 9,
   "metadata": {},
   "outputs": [
    {
     "name": "stdout",
     "output_type": "stream",
     "text": [
      "{<class 'float'>, <class 'str'>}\n",
      "{<class 'str'>}\n"
     ]
    }
   ],
   "source": [
    "print(object_type_finder(reviews_lst)) \n",
    "# Some reviews are floats, these will need to be turned into strings\n",
    "\n",
    "# Convert all object types to strings for reviews\n",
    "reviews_lst_str = [str(i) for i in reviews_lst]\n",
    "\n",
    "# Check with object_type_finder function\n",
    "print(object_type_finder(reviews_lst_str))\n",
    "# Types are now exlusively strings"
   ]
  },
  {
   "cell_type": "code",
   "execution_count": 10,
   "metadata": {},
   "outputs": [],
   "source": [
    "def lower_and_nonums(lst):\n",
    "    '''\n",
    "    Takes lists of reviews and makes them all lower case + removes numbers\n",
    "    '''\n",
    "    \n",
    "    # Makes new list with lowercase strings\n",
    "    lower_str = [i.lower() for i in lst]\n",
    "    \n",
    "    # Make new list without numbers\n",
    "    nums = r'[0-9]'\n",
    "    low_nonum = [re.sub(nums, '', i) for i in lower_str]\n",
    "    \n",
    "    return low_nonum"
   ]
  },
  {
   "cell_type": "code",
   "execution_count": 11,
   "metadata": {},
   "outputs": [],
   "source": [
    "# Call function lower_and_nonums\n",
    "tt_low_nonum = lower_and_nonums(reviews_lst_str)"
   ]
  },
  {
   "cell_type": "code",
   "execution_count": 12,
   "metadata": {},
   "outputs": [
    {
     "name": "stderr",
     "output_type": "stream",
     "text": [
      "[nltk_data] Downloading package punkt to\n",
      "[nltk_data]     /Users/isaaclambert/nltk_data...\n",
      "[nltk_data]   Package punkt is already up-to-date!\n"
     ]
    },
    {
     "data": {
      "text/plain": [
       "True"
      ]
     },
     "execution_count": 12,
     "metadata": {},
     "output_type": "execute_result"
    }
   ],
   "source": [
    "nltk.download(\"punkt\")"
   ]
  },
  {
   "cell_type": "code",
   "execution_count": 13,
   "metadata": {},
   "outputs": [],
   "source": [
    "def nest_tokenize_no_punct(lst):\n",
    "    '''\n",
    "    outputs a nested list with sentances outer and tokens inner + removes punctuation\n",
    "    '''\n",
    "    \n",
    "    # Form nested list with reviews split into tokens\n",
    "    token_nested_lst = [word_tokenize(i) for i in lst]\n",
    "    \n",
    "    # Remove punctuation tokens\n",
    "    no_p_n = [[ii for ii in i if ii.isalpha()] for i in token_nested_lst]\n",
    "    \n",
    "    return no_p_n\n"
   ]
  },
  {
   "cell_type": "code",
   "execution_count": 14,
   "metadata": {},
   "outputs": [],
   "source": [
    "# Call function nest_tokenize_no_punct\n",
    "no_punct_nested = nest_tokenize_no_punct(tt_low_nonum)"
   ]
  },
  {
   "cell_type": "code",
   "execution_count": 15,
   "metadata": {},
   "outputs": [
    {
     "name": "stderr",
     "output_type": "stream",
     "text": [
      "[nltk_data] Downloading package wordnet to\n",
      "[nltk_data]     /Users/isaaclambert/nltk_data...\n",
      "[nltk_data]   Package wordnet is already up-to-date!\n"
     ]
    }
   ],
   "source": [
    "# Download for lemmatizatoin\n",
    "nltk.download('wordnet')\n",
    "\n",
    "def stem_or_lem(nested_lst, norm):\n",
    "    '''\n",
    "    For Stemming data norm == 'stem' | for lemmatizing data norm == 'lem'\n",
    "    '''\n",
    "    if norm == 'stem':\n",
    "        ps = PorterStemmer()\n",
    "        ste = [[ps.stem(ii) for ii in i] for i in nested_lst]\n",
    "        return ste\n",
    "    \n",
    "    elif norm == 'lem':\n",
    "        lemmatizer = WordNetLemmatizer()\n",
    "        lemmat = [[lemmatizer.lemmatize(ii) for ii in i] for i in nested_lst]\n",
    "        return lemmat"
   ]
  },
  {
   "cell_type": "code",
   "execution_count": 16,
   "metadata": {},
   "outputs": [],
   "source": [
    "# Call stem_or_lem for Stemming\n",
    "stemmed = stem_or_lem(no_punct_nested, 'stem')"
   ]
  },
  {
   "cell_type": "code",
   "execution_count": 17,
   "metadata": {},
   "outputs": [],
   "source": [
    "# Call stem_or_lem for Lemitization\n",
    "lemmatized = stem_or_lem(no_punct_nested, 'lem')"
   ]
  },
  {
   "cell_type": "code",
   "execution_count": 18,
   "metadata": {},
   "outputs": [],
   "source": [
    "# NESTED LISTS\n",
    "# stemmed\n",
    "# lemmatized"
   ]
  },
  {
   "cell_type": "code",
   "execution_count": 19,
   "metadata": {},
   "outputs": [],
   "source": [
    "def token_extractor(lst):\n",
    "    '''\n",
    "    takes a nested list and output tokens as flat list\n",
    "\n",
    "    '''\n",
    "    empty_lst = []\n",
    "    for i in lst:\n",
    "        for ii in i:\n",
    "            empty_lst.append(ii)\n",
    "            \n",
    "    return empty_lst\n"
   ]
  },
  {
   "cell_type": "code",
   "execution_count": 20,
   "metadata": {},
   "outputs": [],
   "source": [
    "# TOKENS \n",
    "# Call function token extractor for lists of stemmed and lemmatized tokens\n",
    "stemmed_tokens = token_extractor(stemmed)\n",
    "lemma_tokens = token_extractor(lemmatized)"
   ]
  },
  {
   "cell_type": "code",
   "execution_count": 21,
   "metadata": {},
   "outputs": [],
   "source": [
    "def nested_lst_to_df(nested_lst, label):\n",
    "    '''\n",
    "    takes nested token list and outputs df with sentance segmetns and lables\n",
    "    '''\n",
    "    flat_lst = [' '.join(i) for i in nested_lst]\n",
    "    df = pd.DataFrame(flat_lst, columns = ['Reviews'])\n",
    "    df = pd.concat([df, label], axis=1)\n",
    "    return df   "
   ]
  },
  {
   "cell_type": "code",
   "execution_count": 22,
   "metadata": {},
   "outputs": [],
   "source": [
    "# DATAFRAMES\n",
    "# Call nested_lst_to_df function to make complete stem and lem dfs\n",
    "df_stemmed = nested_lst_to_df(stemmed, labels)\n",
    "df_lemma = nested_lst_to_df(lemmatized, labels)"
   ]
  },
  {
   "cell_type": "code",
   "execution_count": 23,
   "metadata": {},
   "outputs": [
    {
     "data": {
      "text/html": [
       "<div>\n",
       "<style scoped>\n",
       "    .dataframe tbody tr th:only-of-type {\n",
       "        vertical-align: middle;\n",
       "    }\n",
       "\n",
       "    .dataframe tbody tr th {\n",
       "        vertical-align: top;\n",
       "    }\n",
       "\n",
       "    .dataframe thead th {\n",
       "        text-align: right;\n",
       "    }\n",
       "</style>\n",
       "<table border=\"1\" class=\"dataframe\">\n",
       "  <thead>\n",
       "    <tr style=\"text-align: right;\">\n",
       "      <th></th>\n",
       "      <th>Reviews</th>\n",
       "      <th>Label</th>\n",
       "      <th>Reviews</th>\n",
       "      <th>Label</th>\n",
       "    </tr>\n",
       "  </thead>\n",
       "  <tbody>\n",
       "    <tr>\n",
       "      <th>0</th>\n",
       "      <td>i am come to the border and i will kill you all</td>\n",
       "      <td>1</td>\n",
       "      <td>i am coming to the border and i will kill you all</td>\n",
       "      <td>1</td>\n",
       "    </tr>\n",
       "    <tr>\n",
       "      <th>1</th>\n",
       "      <td>im get on borderland and i will kill you all</td>\n",
       "      <td>1</td>\n",
       "      <td>im getting on borderland and i will kill you all</td>\n",
       "      <td>1</td>\n",
       "    </tr>\n",
       "    <tr>\n",
       "      <th>2</th>\n",
       "      <td>im come on borderland and i will murder you all</td>\n",
       "      <td>1</td>\n",
       "      <td>im coming on borderland and i will murder you all</td>\n",
       "      <td>1</td>\n",
       "    </tr>\n",
       "    <tr>\n",
       "      <th>3</th>\n",
       "      <td>im get on borderland and i will murder you me all</td>\n",
       "      <td>1</td>\n",
       "      <td>im getting on borderland and i will murder you...</td>\n",
       "      <td>1</td>\n",
       "    </tr>\n",
       "    <tr>\n",
       "      <th>4</th>\n",
       "      <td>im get into borderland and i can murder you all</td>\n",
       "      <td>1</td>\n",
       "      <td>im getting into borderland and i can murder yo...</td>\n",
       "      <td>1</td>\n",
       "    </tr>\n",
       "    <tr>\n",
       "      <th>...</th>\n",
       "      <td>...</td>\n",
       "      <td>...</td>\n",
       "      <td>...</td>\n",
       "      <td>...</td>\n",
       "    </tr>\n",
       "    <tr>\n",
       "      <th>43368</th>\n",
       "      <td>just realiz that the window partit of my mac i...</td>\n",
       "      <td>1</td>\n",
       "      <td>just realized that the window partition of my ...</td>\n",
       "      <td>1</td>\n",
       "    </tr>\n",
       "    <tr>\n",
       "      <th>43369</th>\n",
       "      <td>just realiz that my mac window partit is year ...</td>\n",
       "      <td>1</td>\n",
       "      <td>just realized that my mac window partition is ...</td>\n",
       "      <td>1</td>\n",
       "    </tr>\n",
       "    <tr>\n",
       "      <th>43370</th>\n",
       "      <td>just realiz the window partit of my mac is now...</td>\n",
       "      <td>1</td>\n",
       "      <td>just realized the window partition of my mac i...</td>\n",
       "      <td>1</td>\n",
       "    </tr>\n",
       "    <tr>\n",
       "      <th>43371</th>\n",
       "      <td>just realiz between the window partit of my ma...</td>\n",
       "      <td>1</td>\n",
       "      <td>just realized between the window partition of ...</td>\n",
       "      <td>1</td>\n",
       "    </tr>\n",
       "    <tr>\n",
       "      <th>43372</th>\n",
       "      <td>just like the window partit of my mac is like ...</td>\n",
       "      <td>1</td>\n",
       "      <td>just like the window partition of my mac is li...</td>\n",
       "      <td>1</td>\n",
       "    </tr>\n",
       "  </tbody>\n",
       "</table>\n",
       "<p>43373 rows × 4 columns</p>\n",
       "</div>"
      ],
      "text/plain": [
       "                                                 Reviews  Label  \\\n",
       "0        i am come to the border and i will kill you all      1   \n",
       "1           im get on borderland and i will kill you all      1   \n",
       "2        im come on borderland and i will murder you all      1   \n",
       "3      im get on borderland and i will murder you me all      1   \n",
       "4        im get into borderland and i can murder you all      1   \n",
       "...                                                  ...    ...   \n",
       "43368  just realiz that the window partit of my mac i...      1   \n",
       "43369  just realiz that my mac window partit is year ...      1   \n",
       "43370  just realiz the window partit of my mac is now...      1   \n",
       "43371  just realiz between the window partit of my ma...      1   \n",
       "43372  just like the window partit of my mac is like ...      1   \n",
       "\n",
       "                                                 Reviews  Label  \n",
       "0      i am coming to the border and i will kill you all      1  \n",
       "1       im getting on borderland and i will kill you all      1  \n",
       "2      im coming on borderland and i will murder you all      1  \n",
       "3      im getting on borderland and i will murder you...      1  \n",
       "4      im getting into borderland and i can murder yo...      1  \n",
       "...                                                  ...    ...  \n",
       "43368  just realized that the window partition of my ...      1  \n",
       "43369  just realized that my mac window partition is ...      1  \n",
       "43370  just realized the window partition of my mac i...      1  \n",
       "43371  just realized between the window partition of ...      1  \n",
       "43372  just like the window partition of my mac is li...      1  \n",
       "\n",
       "[43373 rows x 4 columns]"
      ]
     },
     "metadata": {},
     "output_type": "display_data"
    }
   ],
   "source": [
    "# display finalised normalized datasets below, stemmed on left and lemmatized on right\n",
    "complete_df = pd.concat([df_stemmed, df_lemma ], axis=1)\n",
    "display(complete_df)"
   ]
  },
  {
   "cell_type": "code",
   "execution_count": 123,
   "metadata": {},
   "outputs": [],
   "source": [
    "# The stemmed data will be used for the sentiment analysis classification task \n",
    "    # as this performs well with the K-nearest neigbours model in question 9\n",
    "    # accordingly stemming is used again in 16 with the validation set \n",
    "\n",
    "# partly for variety / seeing how lemmitized data performs and partly because \n",
    "    # lemmatized data can perform better than stemmed the lemmatized data was used \n",
    "    # for the language modeling "
   ]
  },
  {
   "cell_type": "markdown",
   "metadata": {},
   "source": [
    "# Question 5"
   ]
  },
  {
   "cell_type": "markdown",
   "metadata": {},
   "source": [
    "Constructing an NLP algorithm is an iterative process involving many stages. It beings with text normalisation or preprocessing. This can involved: tokenization; making words lower case; stripping punctuation; lemmatization or stemming and more. \n",
    "\n",
    "The next stage is splitting the data into training and test segments. \n",
    "\n",
    "Following this, the text will have to be vectorized. There are a number of methods for doing this such as bag of words which enumerates tokens with their count in the document or TF-IDF which weights the importance of a term in a document against a corpus of documents outputting a float. There are also N-grams which treat collections of tokens as single vectors. Some tokens such as the stop words vocabulary may also be removed. This process will generate the number of input features as well as affecting the training and test accuracy. \n",
    "\n",
    "As such, different vectorisation methods may be tested on a model and the accuracies and number of features compared to find a good equilibrium between accuracy and processing expenditure. \n",
    "\n",
    "Once, a good vectorisation method has been selected different types of model may be trailed and compared.\n",
    "\n",
    "Once the best model has been selected it will need to have it hyperparamaters tuned. This can be done with grid search which will rerun the training and tested until the optimal configuration of hyperparamaters is found.\n",
    "\n",
    "Finally, the model will be tested on totally novel data at which point error metrics can be introduced and analysed."
   ]
  },
  {
   "cell_type": "markdown",
   "metadata": {},
   "source": [
    "# Question 6 "
   ]
  },
  {
   "cell_type": "markdown",
   "metadata": {},
   "source": [
    "Although rule based classification is feasible for this task since there are many rules exceptions, a supervised learning language model would be preferable. This would be a binary problem with the output classes being, beginning of sentence and not beginning of sentence.\n",
    "\n",
    "First an appropriate language corpus would need to be downloaded. The data would need to be labelled, one method of doing so would be to add a token to signify the beginning of sentences such as S* in the correct positions. Thus a position before a token with an S* would be positive and one without would be negative. \n",
    "\n",
    "Punctuation should not be stripped in normalization and these could be important predictive features. Likewise they should not be made lower case as whether there is a capitalised token or not is a predictive feature. Since in this problem token word length following an S* token can also be important and we are not concerned with the meanings of words, tokens should not lemmatised or stemmed. \n",
    "\n",
    "Tokens could be vectorized in bi-grams where the token pairs which contain an S* , that is Paris token pairs which precede and follow the end of a sentence could be treated as positive. \n",
    "\n",
    "The steps outlined in 5 with model selection and parameter tuning would then be followed \n",
    "\n",
    "Finally the model could be applied to novel text corpuses adding S* tokens where positives are predicted. The S* token could then be used as a delimiter separating sentences into rows on a data frame."
   ]
  },
  {
   "cell_type": "markdown",
   "metadata": {},
   "source": [
    "# Split  data\n",
    "Split the data psudeo-randomly into train and test sets with a function 'splittt'."
   ]
  },
  {
   "cell_type": "code",
   "execution_count": 24,
   "metadata": {},
   "outputs": [],
   "source": [
    "def splittt(df):\n",
    "    '''\n",
    "    split data with train_test_split import\n",
    "    '''\n",
    "    x = df[\"Reviews\"]\n",
    "    y = df[\"Label\"]\n",
    "    train_x, test_x, train_y, test_y = split(x, y, test_size=0.25, random_state=21, shuffle=True)\n",
    "    return train_x, test_x, train_y, test_y"
   ]
  },
  {
   "cell_type": "code",
   "execution_count": 25,
   "metadata": {},
   "outputs": [],
   "source": [
    "# Call splittt function \n",
    "s_train_x, s_test_x, s_train_y, s_test_y = splittt(df_stemmed)\n",
    "l_train_x, l_test_x, l_train_y, l_test_y = splittt(df_lemma)"
   ]
  },
  {
   "cell_type": "markdown",
   "metadata": {},
   "source": [
    "# Vectorization"
   ]
  },
  {
   "cell_type": "code",
   "execution_count": 26,
   "metadata": {},
   "outputs": [],
   "source": [
    "# Begin with standard TF-IDF vectorization - more complex methods will be tested in question 16\n",
    "tfidf = TfidfVectorizer()\n",
    "\n",
    "def vectorize(vec, train_x, test_x):\n",
    "    '''\n",
    "    vectorizes the train and test data with TF-IDF\n",
    "    '''\n",
    "    vec.fit(train_x)\n",
    "    v_train = vec.transform(train_x)\n",
    "    v_test = vec.transform(test_x)\n",
    "    \n",
    "    return v_train, v_test\n",
    "    "
   ]
  },
  {
   "cell_type": "code",
   "execution_count": 27,
   "metadata": {},
   "outputs": [],
   "source": [
    "# Call vectorize function to vectorize X input train and test\n",
    "stem_train_v, stem_test_v = vectorize(tfidf, s_train_x, s_test_x)\n",
    "lem_train_v, lem_test_v = vectorize(tfidf, l_train_x, l_test_x)\n"
   ]
  },
  {
   "cell_type": "markdown",
   "metadata": {},
   "source": [
    "# Question 7"
   ]
  },
  {
   "cell_type": "markdown",
   "metadata": {},
   "source": [
    "K-nearest neighbours (KNN) is intuitive, it simply tags points which are close to the pre-existing points with the same labels. It is has no assumptions about the data, that is it is non-parametric meaning bias is unlikely to be high. There are no training steps which is good for computational processing. It evolves from new instances. It can be used for can be used for binary and multi-class problems as well as regression. \n",
    "\n",
    "Despite this, speed and efficiency decreases as the dataset size increases. It struggles in higher dimensional feature spaces to make predictions. Features must be homogenous, that is scaled in the same manner. The distance hyper-parameter makes KNN very sensitive to outliers.\n",
    "\n",
    "Multinomial Naive Bayes (MNB) calculates probability meaning it can be applied to continue and discrete datasets. It can be applied to large data sets, that is it is very scalable. Can apply to binary on multi-class problems. \n",
    "\n",
    "The MNB cannot be used for regression and finding independent features to apply to a MNB can be challenging.\n",
    "\n",
    "Decision Trees (DTs) are transparent, the decision pathways are easily followed. Missing values are simply ignored. The data does not have to be scaled.\n",
    "\n",
    "Boundary lines are only along orthogonal axes so data sometimes needs to be rotated. Small changes in the data can cause large structural shifts in the DT. Relative to the same data size, DTs can be computationally more expensive."
   ]
  },
  {
   "cell_type": "markdown",
   "metadata": {},
   "source": [
    "# Question 8"
   ]
  },
  {
   "cell_type": "markdown",
   "metadata": {},
   "source": [
    "A processing pipeline (PP) is a series of stages where the output of one stage is the input of the next. In NLP PPs aim to take raw unstructured data and clean and structure it so that it can be input into a model. Cleaning data may involve the normalisation steps outlined in 4 as well as things like punctuation stripping. Structuring data may involve segmenting sentences and putting them in data frame rows adjacent to their relevant Y-term or label."
   ]
  },
  {
   "cell_type": "markdown",
   "metadata": {},
   "source": [
    "# Question 9"
   ]
  },
  {
   "cell_type": "markdown",
   "metadata": {},
   "source": [
    "This is achieved by first creating test and train segments with the input X and output Y variables. The inputs are then vectorized. The model will then be fit to the training data by inputting the vectorised X variable and Y labels to use as targets. Train accuracy will be recorded. The model will then be tested by inputing the vectorized X test segment. It’s predictions will be compared agains the test labels to determine test accuracy. This whole process may then be repeated with different vectorisers and hyper-parameters repeatedly until the model is tuned to produce the best test results. Finally, the model may be tested on totally novel data. "
   ]
  },
  {
   "cell_type": "markdown",
   "metadata": {},
   "source": [
    "# Import Models"
   ]
  },
  {
   "cell_type": "code",
   "execution_count": 28,
   "metadata": {},
   "outputs": [],
   "source": [
    "models = {'K-nearest neighbours': KNeighborsClassifier(),\n",
    "          'Descision Tree': DecisionTreeClassifier(),\n",
    "          'MultinomialNB': MultinomialNB()}"
   ]
  },
  {
   "cell_type": "markdown",
   "metadata": {},
   "source": [
    "# Train and test the models"
   ]
  },
  {
   "cell_type": "code",
   "execution_count": 29,
   "metadata": {},
   "outputs": [],
   "source": [
    "def train_models(normalizer, train_v, train_y, test_v, test_y):\n",
    "    '''\n",
    "    Fit models then output df with train and test accuracy \n",
    "    '''\n",
    "    dic_models = {'Normalizer': [], 'Model': [], 'Training accuracy': [], 'Test accuracy': []}\n",
    "    \n",
    "    \n",
    "    for i, ii in models.items():\n",
    "        ii.fit(train_v, train_y)\n",
    "        \n",
    "        dic_models['Normalizer'].append(normalizer)\n",
    "        dic_models['Model'].append(i)\n",
    "        dic_models['Training accuracy'].append(\"{:.2%}\".format(ii.score(train_v, train_y)))\n",
    "        dic_models['Test accuracy'].append(\"{:.2%}\".format(ii.score(test_v, test_y)))\n",
    "    \n",
    "    df_results = pd.DataFrame.from_dict(dic_models)\n",
    "    return df_results \n"
   ]
  },
  {
   "cell_type": "code",
   "execution_count": 30,
   "metadata": {},
   "outputs": [],
   "source": [
    "# Call train_models to produce results for stemming dataset\n",
    "stem_resutls = train_models('stemming', stem_train_v, s_train_y, stem_test_v, s_test_y )"
   ]
  },
  {
   "cell_type": "code",
   "execution_count": 31,
   "metadata": {},
   "outputs": [],
   "source": [
    "# Call train_models to produce results for lemitization dataset\n",
    "lem_resutls = train_models('lemitization', lem_train_v, l_train_y, lem_test_v, l_test_y )"
   ]
  },
  {
   "cell_type": "code",
   "execution_count": 32,
   "metadata": {},
   "outputs": [
    {
     "data": {
      "text/html": [
       "<div>\n",
       "<style scoped>\n",
       "    .dataframe tbody tr th:only-of-type {\n",
       "        vertical-align: middle;\n",
       "    }\n",
       "\n",
       "    .dataframe tbody tr th {\n",
       "        vertical-align: top;\n",
       "    }\n",
       "\n",
       "    .dataframe thead th {\n",
       "        text-align: right;\n",
       "    }\n",
       "</style>\n",
       "<table border=\"1\" class=\"dataframe\">\n",
       "  <thead>\n",
       "    <tr style=\"text-align: right;\">\n",
       "      <th></th>\n",
       "      <th>Normalizer</th>\n",
       "      <th>Model</th>\n",
       "      <th>Training accuracy</th>\n",
       "      <th>Test accuracy</th>\n",
       "    </tr>\n",
       "  </thead>\n",
       "  <tbody>\n",
       "    <tr>\n",
       "      <th>0</th>\n",
       "      <td>stemming</td>\n",
       "      <td>K-nearest neighbours</td>\n",
       "      <td>95.97%</td>\n",
       "      <td>92.95%</td>\n",
       "    </tr>\n",
       "    <tr>\n",
       "      <th>1</th>\n",
       "      <td>lemitization</td>\n",
       "      <td>K-nearest neighbours</td>\n",
       "      <td>95.88%</td>\n",
       "      <td>92.22%</td>\n",
       "    </tr>\n",
       "    <tr>\n",
       "      <th>2</th>\n",
       "      <td>stemming</td>\n",
       "      <td>Descision Tree</td>\n",
       "      <td>98.31%</td>\n",
       "      <td>87.30%</td>\n",
       "    </tr>\n",
       "    <tr>\n",
       "      <th>3</th>\n",
       "      <td>lemitization</td>\n",
       "      <td>Descision Tree</td>\n",
       "      <td>98.31%</td>\n",
       "      <td>87.01%</td>\n",
       "    </tr>\n",
       "    <tr>\n",
       "      <th>4</th>\n",
       "      <td>stemming</td>\n",
       "      <td>MultinomialNB</td>\n",
       "      <td>89.11%</td>\n",
       "      <td>86.77%</td>\n",
       "    </tr>\n",
       "    <tr>\n",
       "      <th>5</th>\n",
       "      <td>lemitization</td>\n",
       "      <td>MultinomialNB</td>\n",
       "      <td>90.15%</td>\n",
       "      <td>87.38%</td>\n",
       "    </tr>\n",
       "  </tbody>\n",
       "</table>\n",
       "</div>"
      ],
      "text/plain": [
       "     Normalizer                 Model Training accuracy Test accuracy\n",
       "0      stemming  K-nearest neighbours            95.97%        92.95%\n",
       "1  lemitization  K-nearest neighbours            95.88%        92.22%\n",
       "2      stemming        Descision Tree            98.31%        87.30%\n",
       "3  lemitization        Descision Tree            98.31%        87.01%\n",
       "4      stemming         MultinomialNB            89.11%        86.77%\n",
       "5  lemitization         MultinomialNB            90.15%        87.38%"
      ]
     },
     "metadata": {},
     "output_type": "display_data"
    }
   ],
   "source": [
    "# Combines both dfs with alternating rows then resets indexes\n",
    "all_results_df = pd.concat([stem_resutls, lem_resutls]).sort_index().reset_index(drop=True)\n",
    "\n",
    "display(all_results_df)"
   ]
  },
  {
   "cell_type": "markdown",
   "metadata": {},
   "source": [
    "For the decision tree, the train accuracy is very hight but decreases significantly for the test accuracy suggesting overfitting. The Naive Bayes model is consistent but has lower accuracy than the K-nearest neighbours model (KNM) which is also consistent. Although the lemmatised data generally performs marginally better, the stemmed data performs marginally better in conjunction with the KNM suggesting this is the best combination."
   ]
  },
  {
   "cell_type": "markdown",
   "metadata": {},
   "source": [
    "# Question 10"
   ]
  },
  {
   "cell_type": "code",
   "execution_count": 33,
   "metadata": {},
   "outputs": [],
   "source": [
    "def generate_tokens_freq(tokens):\n",
    "    '''\n",
    "    outputs dictionary of tokens (keys) + count (values)\n",
    "    '''\n",
    "    dic={}\n",
    "    for i in tokens:\n",
    "        dic[i]=0\n",
    "    for i in tokens:\n",
    "        dic[i]+=1\n",
    "    return dic"
   ]
  },
  {
   "cell_type": "code",
   "execution_count": 34,
   "metadata": {},
   "outputs": [],
   "source": [
    "# Call generate_tokens_freq with Lemmatized tokens\n",
    "token_count = generate_tokens_freq(lemma_tokens)"
   ]
  },
  {
   "cell_type": "code",
   "execution_count": 35,
   "metadata": {},
   "outputs": [],
   "source": [
    "def generate_ngrams(tokens,k):\n",
    "    '''\n",
    "    creats lists of N-grams where K = N  \n",
    "    '''\n",
    "    l=[]\n",
    "    i=0\n",
    "    while(i<len(tokens)):\n",
    "        l.append(tokens[i:i+k])\n",
    "        i=i+1\n",
    "    l=l[:-1]\n",
    "    return l\n"
   ]
  },
  {
   "cell_type": "code",
   "execution_count": 36,
   "metadata": {},
   "outputs": [],
   "source": [
    "# Call generate_ngrams\n",
    "bigrams = generate_ngrams(lemma_tokens,2)"
   ]
  },
  {
   "cell_type": "code",
   "execution_count": 37,
   "metadata": {},
   "outputs": [],
   "source": [
    "def generate_ngram_freq(bi):\n",
    "    '''\n",
    "    Ouput dictionary with bigrams and their counts\n",
    "    '''\n",
    "    dic={}\n",
    "    for i in bi:\n",
    "        st=\" \".join(i)\n",
    "        dic[st]=0\n",
    "    for i in bi:\n",
    "        st=\" \".join(i)\n",
    "        dic[st]+=1\n",
    "    return dic\n"
   ]
  },
  {
   "cell_type": "code",
   "execution_count": 38,
   "metadata": {},
   "outputs": [],
   "source": [
    "# Call generate_ngram_freq\n",
    "bi_counts_dic = generate_ngram_freq(bigrams)"
   ]
  },
  {
   "cell_type": "code",
   "execution_count": null,
   "metadata": {},
   "outputs": [],
   "source": [
    "# Sort bi-gram counts and calulate rank \n",
    "sorted_bi_freq = sorted(bi_counts_dic.values(), reverse=True)\n",
    "rank = range(1, len(sorted_bi_freq) + 1)"
   ]
  },
  {
   "cell_type": "code",
   "execution_count": 40,
   "metadata": {},
   "outputs": [
    {
     "data": {
      "image/png": "[encoded data removed]",
      "text/plain": [
       "<Figure size 432x288 with 1 Axes>"
      ]
     },
     "metadata": {
      "needs_background": "light"
     },
     "output_type": "display_data"
    },
    {
     "data": {
      "image/png": "[encoded data removed]",
      "text/plain": [
       "<Figure size 432x288 with 1 Axes>"
      ]
     },
     "metadata": {
      "needs_background": "light"
     },
     "output_type": "display_data"
    },
    {
     "name": "stdout",
     "output_type": "stream",
     "text": [
      "There are more combinations of uni-grams then uni-grams so the rank will increase for bi-grams \n",
      "but the bi-gram counts will decrease.\n"
     ]
    }
   ],
   "source": [
    "def make_plot(x, y, xlab, ylab, title, scale):\n",
    "    '''\n",
    "    Generates plot with log scale option\n",
    "    '''\n",
    "    fig = pylab.figure()\n",
    "    pylab.plot(x, y)\n",
    "    pylab.xlabel(xlab)\n",
    "    pylab.ylabel(ylab)\n",
    "    pylab.title(title)\n",
    "    if scale == \"log\":\n",
    "        pylab.xscale('log')\n",
    "        pylab.yscale('log')\n",
    "    pylab.draw()\n",
    "    pylab.pause(1)\n",
    "    pylab.close(fig)\n",
    "\n",
    "# Call make_plot x2\n",
    "make_plot(rank, sorted_bi_freq, \"rank\", \"frequency\", \"Types of bi-gram in twitter dataset\", \"linear\")\n",
    "make_plot(rank, sorted_bi_freq, \"rank\", \"frequency\", \"Types of bi-gram in twitter dataset (log-log scale)\", \"log\")\n",
    "\n",
    "print('There are more combinations of uni-grams then uni-grams so the rank will increase for bi-grams \\nbut the bi-gram counts will decrease.' )"
   ]
  },
  {
   "cell_type": "code",
   "execution_count": 41,
   "metadata": {},
   "outputs": [],
   "source": [
    "# Make list of distinct lemmatized tokens\n",
    "distinct_tokens = list(set(sorted(lemma_tokens)))"
   ]
  },
  {
   "cell_type": "code",
   "execution_count": 42,
   "metadata": {},
   "outputs": [],
   "source": [
    "def find1(s,bi_counts_dic):\n",
    "    try:\n",
    "        return bi_counts_dic[s]\n",
    "    except:\n",
    "        return 0\n",
    "def print_probability_table(distinct_tokens,dct,bi_counts_dic):\n",
    "    '''\n",
    "    Compute bi-gram probabilites as matrix \n",
    "    '''\n",
    "    n=len(distinct_tokens)\n",
    "    l=[[]*n for i in range(n)]\n",
    "    for i in range(n):\n",
    "        denominator = dct[distinct_tokens[i]]\n",
    "        for j in range(n):\n",
    "            numerator = find1(distinct_tokens[i]+\" \"+distinct_tokens[j],bi_counts_dic)\n",
    "            l[i].append(float(\"{:.3f}\".format(numerator/denominator)))\n",
    "    return l"
   ]
  },
  {
   "cell_type": "code",
   "execution_count": 43,
   "metadata": {},
   "outputs": [],
   "source": [
    "# Call print_probability_table\n",
    "probability_table=print_probability_table(distinct_tokens,token_count,bi_counts_dic)"
   ]
  },
  {
   "cell_type": "code",
   "execution_count": 44,
   "metadata": {},
   "outputs": [],
   "source": [
    "# BI-GRAM TESTER\n",
    "## enter two uni-grams to test in strings\n",
    "\n",
    "gram1 = \"I\"\n",
    "gram2 = \"am\""
   ]
  },
  {
   "cell_type": "code",
   "execution_count": 45,
   "metadata": {},
   "outputs": [],
   "source": [
    "# Form list of N-grams\n",
    "test_gram = [gram1,gram2]\n",
    "\n",
    "# Call lower_and_nonums\n",
    "low_test = lower_and_nonums(test_gram)\n",
    "\n",
    "# Make the list nested\n",
    "low_test_nest = [low_test]"
   ]
  },
  {
   "cell_type": "code",
   "execution_count": 46,
   "metadata": {},
   "outputs": [],
   "source": [
    "# Call stem_or_lem\n",
    "lem_gram_test = stem_or_lem(low_test_nest,'lem')"
   ]
  },
  {
   "cell_type": "code",
   "execution_count": 47,
   "metadata": {
    "scrolled": true
   },
   "outputs": [
    {
     "name": "stdout",
     "output_type": "stream",
     "text": [
      "Condtional probabily of bi-gram: I am\n",
      "P('i am')\t=   0.034\n"
     ]
    }
   ],
   "source": [
    "# Output probabilty for chosen bigram\n",
    "\n",
    "print(f'Condtional probabily of bi-gram: {gram1} {gram2}')\n",
    "\n",
    "s=1\n",
    "\n",
    "for i in lem_gram_test:\n",
    "    k=distinct_tokens.index(i[0])\n",
    "    m=distinct_tokens.index(i[1])\n",
    "    print(\"P('{}')\\t=  \".format(' '.join(i)),probability_table[k][m])\n",
    "    s*=probability_table[k][m]"
   ]
  },
  {
   "cell_type": "markdown",
   "metadata": {},
   "source": [
    "# Question 11"
   ]
  },
  {
   "cell_type": "code",
   "execution_count": 48,
   "metadata": {},
   "outputs": [],
   "source": [
    "# TRIGRAMS\n",
    "trigrams = generate_ngrams(lemma_tokens, 3)\n",
    "tri_counts_dic = generate_ngram_freq(trigrams)"
   ]
  },
  {
   "cell_type": "code",
   "execution_count": 49,
   "metadata": {},
   "outputs": [],
   "source": [
    "# FOURGRAMS\n",
    "fourgrams = generate_ngrams(lemma_tokens, 4)\n",
    "four_count_dic = generate_ngram_freq(fourgrams)"
   ]
  },
  {
   "cell_type": "code",
   "execution_count": 50,
   "metadata": {},
   "outputs": [],
   "source": [
    "# get distinct bigrams\n",
    "distinct_bigrams = list({tuple(i) for i in bigrams})"
   ]
  },
  {
   "cell_type": "code",
   "execution_count": 51,
   "metadata": {},
   "outputs": [],
   "source": [
    "def find1(s,bi_counts_dic):\n",
    "    try:\n",
    "        return bi_counts_dic[s]\n",
    "    except:\n",
    "        return 0\n",
    "\n",
    "# Alter print_probability_table for tri-gram probabilites \n",
    "# Data sampled by range set to 100 to avoid long run time\n",
    "def tri_print_probability_table(distinct_bigrams, distinct_tokens, bi_counts_dic, tri_counts_dic):\n",
    "    '''\n",
    "    Compute probability distribution as matrix for trigrams in range 100\n",
    "    '''\n",
    "    n=len(distinct_bigrams)\n",
    "    n1=len(distinct_tokens)\n",
    "    l=[[]*n1 for i in range(n)]\n",
    "    for i in tqdm(range(100)):\n",
    "        denominator = bi_counts_dic[\" \".join(distinct_bigrams[i])]\n",
    "        for j in range(n1):\n",
    "            numerator = find1(\" \".join(distinct_bigrams[i])+\" \"+distinct_tokens[j], tri_counts_dic)\n",
    "            l[i].append(float(\"{:.3f}\".format(numerator/denominator)))\n",
    "    return l"
   ]
  },
  {
   "cell_type": "code",
   "execution_count": 52,
   "metadata": {},
   "outputs": [
    {
     "name": "stderr",
     "output_type": "stream",
     "text": [
      "100%|██████████| 100/100 [00:03<00:00, 29.75it/s]\n"
     ]
    }
   ],
   "source": [
    "tri_prob_table = tri_print_probability_table(distinct_bigrams, distinct_tokens, bi_counts_dic, tri_counts_dic)"
   ]
  },
  {
   "cell_type": "code",
   "execution_count": 53,
   "metadata": {},
   "outputs": [],
   "source": [
    "def show_probabilities(distinct_bigrams, distinct_tokens, tri_prob_table, ind):\n",
    "    '''\n",
    "    outputs df of possible trigrams and probabilities given a single bigram given by index\n",
    "    '''\n",
    "    bigram = \" \".join(distinct_bigrams[ind])\n",
    "    \n",
    "    prob_dic = {'Trigram': [] , 'Probability': []}\n",
    "\n",
    "    for i, ii in enumerate(tri_prob_table[ind]):\n",
    "        if ii == 0:\n",
    "            continue\n",
    "        \n",
    "        prob_dic['Trigram'].append(f\"{bigram+' '+distinct_tokens[i]}\")\n",
    "        prob_dic['Probability'].append(ii)\n",
    "    \n",
    "    return prob_dic"
   ]
  },
  {
   "cell_type": "code",
   "execution_count": 120,
   "metadata": {},
   "outputs": [],
   "source": [
    "# choose index to test\n",
    "ind = 4"
   ]
  },
  {
   "cell_type": "code",
   "execution_count": 121,
   "metadata": {},
   "outputs": [],
   "source": [
    "# Call function \n",
    "single_index = show_probabilities(distinct_bigrams, distinct_tokens, tri_prob_table, ind)"
   ]
  },
  {
   "cell_type": "code",
   "execution_count": 122,
   "metadata": {},
   "outputs": [
    {
     "name": "stdout",
     "output_type": "stream",
     "text": [
      "Bigram at index 4: s ridiculous \n",
      "\n",
      "Showing possible trigrams and associated probability..\n"
     ]
    },
    {
     "data": {
      "text/html": [
       "<div>\n",
       "<style scoped>\n",
       "    .dataframe tbody tr th:only-of-type {\n",
       "        vertical-align: middle;\n",
       "    }\n",
       "\n",
       "    .dataframe tbody tr th {\n",
       "        vertical-align: top;\n",
       "    }\n",
       "\n",
       "    .dataframe thead th {\n",
       "        text-align: right;\n",
       "    }\n",
       "</style>\n",
       "<table border=\"1\" class=\"dataframe\">\n",
       "  <thead>\n",
       "    <tr style=\"text-align: right;\">\n",
       "      <th></th>\n",
       "      <th>Trigram</th>\n",
       "      <th>Probability</th>\n",
       "    </tr>\n",
       "  </thead>\n",
       "  <tbody>\n",
       "    <tr>\n",
       "      <th>0</th>\n",
       "      <td>s ridiculous and</td>\n",
       "      <td>0.182</td>\n",
       "    </tr>\n",
       "    <tr>\n",
       "      <th>6</th>\n",
       "      <td>s ridiculous last</td>\n",
       "      <td>0.182</td>\n",
       "    </tr>\n",
       "    <tr>\n",
       "      <th>1</th>\n",
       "      <td>s ridiculous so</td>\n",
       "      <td>0.091</td>\n",
       "    </tr>\n",
       "    <tr>\n",
       "      <th>2</th>\n",
       "      <td>s ridiculous very</td>\n",
       "      <td>0.091</td>\n",
       "    </tr>\n",
       "    <tr>\n",
       "      <th>3</th>\n",
       "      <td>s ridiculous exactly</td>\n",
       "      <td>0.091</td>\n",
       "    </tr>\n",
       "    <tr>\n",
       "      <th>4</th>\n",
       "      <td>s ridiculous homedepot</td>\n",
       "      <td>0.091</td>\n",
       "    </tr>\n",
       "    <tr>\n",
       "      <th>5</th>\n",
       "      <td>s ridiculous that</td>\n",
       "      <td>0.091</td>\n",
       "    </tr>\n",
       "    <tr>\n",
       "      <th>7</th>\n",
       "      <td>s ridiculous how</td>\n",
       "      <td>0.091</td>\n",
       "    </tr>\n",
       "    <tr>\n",
       "      <th>8</th>\n",
       "      <td>s ridiculous little</td>\n",
       "      <td>0.091</td>\n",
       "    </tr>\n",
       "  </tbody>\n",
       "</table>\n",
       "</div>"
      ],
      "text/plain": [
       "                  Trigram  Probability\n",
       "0        s ridiculous and        0.182\n",
       "6       s ridiculous last        0.182\n",
       "1         s ridiculous so        0.091\n",
       "2       s ridiculous very        0.091\n",
       "3    s ridiculous exactly        0.091\n",
       "4  s ridiculous homedepot        0.091\n",
       "5       s ridiculous that        0.091\n",
       "7        s ridiculous how        0.091\n",
       "8     s ridiculous little        0.091"
      ]
     },
     "metadata": {},
     "output_type": "display_data"
    }
   ],
   "source": [
    "# print single bigram from chosen index \n",
    "bigram = \" \".join(distinct_bigrams[ind])\n",
    "print(f\"Bigram at index {ind}: {bigram} \\n\")\n",
    "\n",
    "print(\"Showing possible trigrams and associated probability..\")\n",
    "\n",
    "# convert to df and clean \n",
    "single_index_df = pd.DataFrame.from_dict(single_index)\n",
    "single_index_df = single_index_df.sort_values(by=['Probability'], ascending=False)\n",
    "\n",
    "display(single_index_df.head(10))"
   ]
  },
  {
   "cell_type": "code",
   "execution_count": 57,
   "metadata": {},
   "outputs": [],
   "source": [
    "# Sort tri-gram counts and calulate rank \n",
    "sorted_tri_freq = sorted(tri_counts_dic.values(), reverse=True)\n",
    "rank_tri = range(1, len(sorted_tri_freq) + 1)"
   ]
  },
  {
   "cell_type": "code",
   "execution_count": 58,
   "metadata": {},
   "outputs": [
    {
     "data": {
      "image/png": "[encoded data removed]",
      "text/plain": [
       "<Figure size 432x288 with 1 Axes>"
      ]
     },
     "metadata": {
      "needs_background": "light"
     },
     "output_type": "display_data"
    },
    {
     "data": {
      "image/png": "[encoded data removed]",
      "text/plain": [
       "<Figure size 432x288 with 1 Axes>"
      ]
     },
     "metadata": {
      "needs_background": "light"
     },
     "output_type": "display_data"
    }
   ],
   "source": [
    "# Plot distribution \n",
    "make_plot(rank_tri, sorted_tri_freq, \"rank\", \"frequency\", \"Types of tri-gram in twitter dataset\", \"linear\")\n",
    "make_plot(rank_tri, sorted_tri_freq, \"rank\", \"frequency\", \"Types of tri-gram in twitter dataset (log-log scale)\", \"log\")\n"
   ]
  },
  {
   "cell_type": "code",
   "execution_count": 59,
   "metadata": {},
   "outputs": [],
   "source": [
    "# Sort four-gram counts and calulate rank\n",
    "sorted_four_freq = sorted(four_count_dic.values(), reverse=True)\n",
    "rank_four = range(1, len(sorted_four_freq) + 1)"
   ]
  },
  {
   "cell_type": "code",
   "execution_count": 127,
   "metadata": {},
   "outputs": [
    {
     "data": {
      "image/png": "[encoded data removed]",
      "text/plain": [
       "<Figure size 432x288 with 1 Axes>"
      ]
     },
     "metadata": {
      "needs_background": "light"
     },
     "output_type": "display_data"
    },
    {
     "data": {
      "image/png": "[encoded data removed]",
      "text/plain": [
       "<Figure size 432x288 with 1 Axes>"
      ]
     },
     "metadata": {
      "needs_background": "light"
     },
     "output_type": "display_data"
    },
    {
     "name": "stdout",
     "output_type": "stream",
     "text": [
      "With tri and four-grams there are even lower counts but even more combinations.\n"
     ]
    }
   ],
   "source": [
    "# Plot distribution \n",
    "make_plot(rank_four, sorted_four_freq, \"rank\", \"frequency\", \"Types of four-gram in twitter dataset\", \"linear\")\n",
    "make_plot(rank_four, sorted_four_freq, \"rank\", \"frequency\", \"Types of four-gram in twitter dataset (log-log scale)\", \"log\")\n",
    "\n",
    "print('With tri and four-grams there are even lower counts but even more combinations.')"
   ]
  },
  {
   "cell_type": "markdown",
   "metadata": {},
   "source": [
    "# Question 12"
   ]
  },
  {
   "cell_type": "code",
   "execution_count": 61,
   "metadata": {},
   "outputs": [],
   "source": [
    "# The functions find1 and print_probabilty_table are adjusted to Laplace's Law for smoothing \n",
    "    # +1 to bi_counts_dic[s]\n",
    "    # return 1 rather than 0 for unseen N-gram \n",
    "    # add n (vocab size) to denominator \n",
    "\n",
    "def find1_smoothed(s,bi_counts_dic):\n",
    "    try:\n",
    "        return bi_counts_dic[s] + 1\n",
    "    except:\n",
    "        return 1\n",
    "def print_smoothed_probability_table(distinct_tokens,dct,bi_counts_dic):\n",
    "    \n",
    "    n=len(distinct_tokens)\n",
    "    l=[[]*n for i in range(n)]\n",
    "    for i in tqdm(range(n)):\n",
    "        denominator = dct[distinct_tokens[i]] + n\n",
    "        for j in range(n):\n",
    "            numerator = find1_smoothed(distinct_tokens[i]+\" \"+distinct_tokens[j],bi_counts_dic)\n",
    "            l[i].append(float(\"{:.14f}\".format(numerator/denominator)))\n",
    "    return l "
   ]
  },
  {
   "cell_type": "code",
   "execution_count": 62,
   "metadata": {},
   "outputs": [
    {
     "name": "stderr",
     "output_type": "stream",
     "text": [
      "100%|██████████| 16424/16424 [07:54<00:00, 34.64it/s]\n"
     ]
    }
   ],
   "source": [
    "smoothed_probability_table=print_smoothed_probability_table(distinct_tokens,token_count,bi_counts_dic)"
   ]
  },
  {
   "cell_type": "code",
   "execution_count": 63,
   "metadata": {},
   "outputs": [
    {
     "name": "stdout",
     "output_type": "stream",
     "text": [
      "P-smoothed ('i am')\t=   0.02013103931179\n",
      "The probabilty for (am/I) has decreaced from 0.034 (3sf) to 0.020 (3sf) due to smoothing.\n",
      "This is because the vocabulary size has been increaced and the probibilty has been distributed between \n",
      "previously unseen N-grams.\n"
     ]
    }
   ],
   "source": [
    "# Print same bi-gram conditional probablity for lem_gram_test\n",
    "for i in lem_gram_test:\n",
    "    k=distinct_tokens.index(i[0])\n",
    "    m=distinct_tokens.index(i[1])\n",
    "    print(\"P-smoothed ('{}')\\t=  \".format(' '.join(i)),smoothed_probability_table[k][m])\n",
    "    s*=smoothed_probability_table[k][m]\n",
    "\n",
    "print(f'The probabilty for ({gram2}/{gram1}) has decreaced from 0.034 (3sf) to 0.020 (3sf) due to smoothing.')\n",
    "print('This is because the vocabulary size has been increaced and the probibilty has been distributed between \\npreviously unseen N-grams.')\n"
   ]
  },
  {
   "cell_type": "code",
   "execution_count": 64,
   "metadata": {},
   "outputs": [],
   "source": [
    "smoothed_sorted_bi_freq = [i+1 for i in sorted_bi_freq]"
   ]
  },
  {
   "cell_type": "code",
   "execution_count": 65,
   "metadata": {},
   "outputs": [
    {
     "data": {
      "image/png": "[encoded data removed]",
      "text/plain": [
       "<Figure size 432x288 with 1 Axes>"
      ]
     },
     "metadata": {
      "needs_background": "light"
     },
     "output_type": "display_data"
    },
    {
     "data": {
      "image/png": "[encoded data removed]",
      "text/plain": [
       "<Figure size 432x288 with 1 Axes>"
      ]
     },
     "metadata": {
      "needs_background": "light"
     },
     "output_type": "display_data"
    },
    {
     "name": "stdout",
     "output_type": "stream",
     "text": [
      "The graphs look almost idential to the non-smoothed bi-gram graphs since the frequency has only been \n",
      "increaced by 1 for each bi-gram\n",
      "The smoothing will make the frequency distribution slightly more even.\n"
     ]
    }
   ],
   "source": [
    "# Plot curves for after Laplace smoothing \n",
    "make_plot(rank, smoothed_sorted_bi_freq, \"rank\", \"frequency\", \"Types of bi-gram in twitter dataset after Lapalace smoothing\", \"linear\")\n",
    "make_plot(rank, smoothed_sorted_bi_freq, \"rank\", \"frequency\", \"Types of bi-gram in twitter dataset after Lapalace smoothing(log-log scale)\", \"log\")\n",
    "\n",
    "print('The graphs look almost idential to the non-smoothed bi-gram graphs since the frequency has only been \\nincreaced by 1 for each bi-gram')\n",
    "print('The smoothing will make the frequency distribution slightly more even.')"
   ]
  },
  {
   "cell_type": "markdown",
   "metadata": {},
   "source": [
    "# Question 13"
   ]
  },
  {
   "cell_type": "code",
   "execution_count": 66,
   "metadata": {},
   "outputs": [],
   "source": [
    "# copy the lemma_tokens list and assign to new variable \n",
    "zipf_lemma_tokens = lemma_tokens.copy()"
   ]
  },
  {
   "cell_type": "code",
   "execution_count": 67,
   "metadata": {},
   "outputs": [],
   "source": [
    "# define a minimum threshold count for tokens in vocab \n",
    "thresh = 25\n",
    "\n",
    "# replace tokens under this count with 'UNK' token\n",
    "for i, ii in enumerate(zipf_lemma_tokens):\n",
    "    if token_count[ii] < thresh:\n",
    "        zipf_lemma_tokens[i] = 'UNK'\n",
    "\n",
    "#zipf_lemma_tokens"
   ]
  },
  {
   "cell_type": "code",
   "execution_count": 68,
   "metadata": {},
   "outputs": [],
   "source": [
    "# Call generate_tokens_freq to provide token count in zipf vocabulary \n",
    "zipf_token_count = generate_tokens_freq(zipf_lemma_tokens)"
   ]
  },
  {
   "cell_type": "code",
   "execution_count": 69,
   "metadata": {},
   "outputs": [],
   "source": [
    "# Call generate_ngrams with k=2 to generate bigrams in zipf vocabulary \n",
    "zipf_bigrams = generate_ngrams(zipf_lemma_tokens, 2)"
   ]
  },
  {
   "cell_type": "code",
   "execution_count": 70,
   "metadata": {},
   "outputs": [],
   "source": [
    "# generate bigram counts in ZIPF vocabulary \n",
    "zipf_bi_count_dic = generate_ngram_freq(zipf_bigrams)"
   ]
  },
  {
   "cell_type": "code",
   "execution_count": 71,
   "metadata": {},
   "outputs": [],
   "source": [
    "# Make list of distinct tokens from ZIPF vocabulary \n",
    "zipf_distinct_tokens = list(set(sorted(zipf_lemma_tokens)))"
   ]
  },
  {
   "cell_type": "code",
   "execution_count": 72,
   "metadata": {},
   "outputs": [],
   "source": [
    "def zipf_find1(s,zipf_bi_count_dic):\n",
    "    try:\n",
    "        return zipf_bi_count_dic[s]\n",
    "    except:\n",
    "        return 0\n",
    "def zipf_print_probability_table(zipf_distinct_tokens, dct, zipf_bi_count_dic):\n",
    "    '''\n",
    "    Compute bi-gram probabilites as matrix \n",
    "    '''\n",
    "    n=len(zipf_distinct_tokens)\n",
    "    l=[[]*n for i in range(n)]\n",
    "    for i in tqdm(range(n)):\n",
    "        denominator = dct[zipf_distinct_tokens[i]]\n",
    "        for j in range(n):\n",
    "            numerator = zipf_find1(zipf_distinct_tokens[i]+\" \"+zipf_distinct_tokens[j],zipf_bi_count_dic)\n",
    "            l[i].append(float(\"{:.3f}\".format(numerator/denominator)))\n",
    "    return l"
   ]
  },
  {
   "cell_type": "code",
   "execution_count": 73,
   "metadata": {},
   "outputs": [
    {
     "name": "stderr",
     "output_type": "stream",
     "text": [
      "100%|██████████| 2431/2431 [00:11<00:00, 215.61it/s]\n"
     ]
    }
   ],
   "source": [
    "zipf_prob_table = zipf_print_probability_table(zipf_distinct_tokens, zipf_token_count, zipf_bi_count_dic)"
   ]
  },
  {
   "cell_type": "code",
   "execution_count": 74,
   "metadata": {},
   "outputs": [],
   "source": [
    "# ZIPF'S LAW - BI-GRAM TESTER \n",
    "## enter two uni-grams to test in strings - can be sparse words \n",
    "\n",
    "gram3 = \"We\"\n",
    "gram4 = \"Ruminated\""
   ]
  },
  {
   "cell_type": "code",
   "execution_count": 75,
   "metadata": {},
   "outputs": [
    {
     "name": "stdout",
     "output_type": "stream",
     "text": [
      "['we', 'ruminated']\n"
     ]
    }
   ],
   "source": [
    "# Make bigram into list \n",
    "zipf_test_gram = [gram3, gram4]\n",
    "\n",
    "# Call lower_and_nonums\n",
    "zipf_low_test = lower_and_nonums(zipf_test_gram)\n",
    "\n",
    "# Make the list nested for stem_or_lem function input \n",
    "zipf_low_test_nest = [zipf_low_test]\n",
    "\n",
    "# Call stem_or_lem to lematize bigrams \n",
    "zipf_lem_gram_test = stem_or_lem(zipf_low_test_nest,'lem')\n",
    "\n",
    "# Back to flat list \n",
    "pp_zipf_bi_test = token_extractor(zipf_lem_gram_test)\n",
    "print(pp_zipf_bi_test)"
   ]
  },
  {
   "cell_type": "code",
   "execution_count": 76,
   "metadata": {},
   "outputs": [
    {
     "name": "stdout",
     "output_type": "stream",
     "text": [
      "['we', 'UNK']\n"
     ]
    }
   ],
   "source": [
    "# Loop replaces any unknown inputs to gram3 and gram4 with 'UNK' token\n",
    "for i, ii in enumerate(pp_zipf_bi_test):\n",
    "    if ii not in zipf_distinct_tokens:\n",
    "        pp_zipf_bi_test[i] = 'UNK'  \n",
    "        \n",
    "print(pp_zipf_bi_test)"
   ]
  },
  {
   "cell_type": "code",
   "execution_count": 77,
   "metadata": {},
   "outputs": [
    {
     "name": "stdout",
     "output_type": "stream",
     "text": [
      "Condtional probabily of bi-gram: We Ruminated\n",
      "P('we UNK')\t=   0.042\n",
      "\n",
      "Although there are no count of the bigram We Ruminated in the language corpus a posative float is still returned.\n",
      "This number is the sum of the probabilites of any uni-gram under the threshold count given unigram: We\n"
     ]
    }
   ],
   "source": [
    "# Convert back to nested list \n",
    "nest_pp_zipf_bi_test = [pp_zipf_bi_test]\n",
    "\n",
    "# Output probabilty for chosen bigram after application of Zipf's Law\n",
    "print(f'Condtional probabily of bi-gram: {gram3} {gram4}')\n",
    "\n",
    "s=1\n",
    "\n",
    "for i in nest_pp_zipf_bi_test:\n",
    "    k=zipf_distinct_tokens.index(i[0])\n",
    "    m=zipf_distinct_tokens.index(i[1])\n",
    "    print(\"P('{}')\\t=  \".format(' '.join(i)),zipf_prob_table[k][m])\n",
    "    s*=zipf_prob_table[k][m]\n",
    "    \n",
    "print(f'\\nAlthough there are no count of the bigram {gram3} {gram4} in the language corpus a posative float is still returned.')\n",
    "print(f'This number is the sum of the probabilites of any uni-gram under the threshold count given unigram: {gram3}')"
   ]
  },
  {
   "cell_type": "code",
   "execution_count": 78,
   "metadata": {},
   "outputs": [],
   "source": [
    "# Sort bi-gram counts and calulate rank for Zipf vocabulary\n",
    "zipf_sorted_bi_freq = sorted(zipf_bi_count_dic.values(), reverse=True)\n",
    "zipf_rank = range(1, len(zipf_sorted_bi_freq) + 1)"
   ]
  },
  {
   "cell_type": "code",
   "execution_count": 79,
   "metadata": {},
   "outputs": [
    {
     "data": {
      "image/png": "[encoded data removed]",
      "text/plain": [
       "<Figure size 432x288 with 1 Axes>"
      ]
     },
     "metadata": {
      "needs_background": "light"
     },
     "output_type": "display_data"
    },
    {
     "data": {
      "image/png": "[encoded data removed]",
      "text/plain": [
       "<Figure size 432x288 with 1 Axes>"
      ]
     },
     "metadata": {
      "needs_background": "light"
     },
     "output_type": "display_data"
    },
    {
     "name": "stdout",
     "output_type": "stream",
     "text": [
      "The threshold of 25 has resulted in a higher bigram count for certain bigrams resulting in the \n",
      "scale of the Y-axis increacing.\n",
      "With sparse tokens transformed to a single token the rank is lower.\n",
      "With higher frequency but lower rank it is unclear whether the distriubtion is more or less even.\n"
     ]
    }
   ],
   "source": [
    "# Plot distribution \n",
    "make_plot(zipf_rank, zipf_sorted_bi_freq, \"rank\", \"frequency\", \"Types of bi-gram in Zipf's Law twitter dataset\", \"linear\")\n",
    "make_plot(zipf_rank, zipf_sorted_bi_freq, \"rank\", \"frequency\", \"Types of bi-gram in Zipf's Law twitter dataset (log-log scale)\", \"log\")\n",
    "\n",
    "print(f'The threshold of {thresh} has resulted in a higher bigram count for certain bigrams resulting in the \\nscale of the Y-axis increacing.')\n",
    "print('With sparse tokens transformed to a single token the rank is lower.')\n",
    "print('With higher frequency but lower rank it is unclear whether the distriubtion is more or less even.')"
   ]
  },
  {
   "cell_type": "markdown",
   "metadata": {},
   "source": [
    "# Question 14"
   ]
  },
  {
   "cell_type": "code",
   "execution_count": 80,
   "metadata": {},
   "outputs": [],
   "source": [
    "# In this question we train a simple MLE model using our lemmatized text corpus. \n",
    "# We then calculate the perplexity and f score some test sentences."
   ]
  },
  {
   "cell_type": "code",
   "execution_count": 81,
   "metadata": {},
   "outputs": [],
   "source": [
    "# Create train and test set for MLE model\n",
    "perplex_df = df_lemma.sample(frac=1)\n",
    "perplex_sentences = perplex_df['Reviews'].to_list()\n",
    "train_sentences = perplex_sentences[:-10]\n",
    "test_sentences = perplex_sentences[-10:]"
   ]
  },
  {
   "cell_type": "code",
   "execution_count": 82,
   "metadata": {},
   "outputs": [
    {
     "name": "stdout",
     "output_type": "stream",
     "text": [
      "Sentence: indian government ban pubg pro pubg player streamer\n",
      "Perplexity: 2999.29 \n",
      " \n",
      "\n",
      "Sentence: why it so hard not to find shit online on amazon i want to buy shit but i refuse to buy it through amazon i had a coffee misfire because i need a new kale but i ca go to irl shop urgg a it not a problem really it just disappointing that avoiding amazon is so hard\n",
      "Perplexity: inf \n",
      " \n",
      "\n",
      "Sentence: fascinating stuff waiting for not a second tf comment\n",
      "Perplexity: 1623.65 \n",
      " \n",
      "\n",
      "Sentence: we were robbed nk\n",
      "Perplexity: 2882.73 \n",
      " \n",
      "\n",
      "Sentence: amazon is very disappointed with amazon never expected such a pathetic response from the custome support team\n",
      "Perplexity: 1233.64 \n",
      " \n",
      "\n",
      "Sentence: are they not being sued for their baby powder yet we will trust them with a vaccine please\n",
      "Perplexity: 790.81 \n",
      " \n",
      "\n",
      "Sentence: why\n",
      "Perplexity: 368.66 \n",
      " \n",
      "\n",
      "Sentence: there obviously nothing wrong with havoc just three people using it with a lot of ammunition because this stupid as developer doe know how to balance a gun and fix there lol game\n",
      "Perplexity: 832.68 \n",
      " \n",
      "\n",
      "Sentence: best borderland character y\n",
      "Perplexity: 1061.47 \n",
      " \n",
      "\n",
      "Sentence: and rainbowgame can you guy please not fix the rubber banding when you try to free walk through a door it is so bad when suddenly it get people you killed before every game\n",
      "Perplexity: 543.91 \n",
      " \n",
      "\n"
     ]
    }
   ],
   "source": [
    "# Tokenise tweets\n",
    "tokenized_text = [list(map(str.lower, nltk.tokenize.word_tokenize(sent))) \n",
    "                for sent in train_sentences]\n",
    "\n",
    "# Fit MLE model to training data\n",
    "n = 1\n",
    "train_data, padded_vocab = padded_everygram_pipeline(n, tokenized_text)\n",
    "model = MLE(n)\n",
    "model.fit(train_data, padded_vocab)\n",
    "\n",
    "tokenized_text = [list(map(str.lower, nltk.tokenize.word_tokenize(sent))) \n",
    "                for sent in test_sentences]\n",
    "\n",
    "test_data, _ = padded_everygram_pipeline(n, tokenized_text)\n",
    "\n",
    "# Calculate the perplexity for 10 examples in the test set. The perplexity is simply the reciprocal \n",
    "# of the sentence probabilties. The lower the perplecity the better the model has predicted the sentence.\n",
    "# The perplexity is normalised by the length of sentence.\n",
    "for i, test in enumerate(test_data):\n",
    "    print(f\"Sentence: {test_sentences[i]}\\nPerplexity: {round(model.perplexity(test), 2)} \\n \\n\")\n"
   ]
  },
  {
   "cell_type": "markdown",
   "metadata": {},
   "source": [
    "# Question 15"
   ]
  },
  {
   "cell_type": "code",
   "execution_count": 128,
   "metadata": {},
   "outputs": [],
   "source": [
    "# Comments are dispersed throughtout the cells.\n",
    "\n",
    "# Unsurpringly when the n increaces for n-grams the conditional probality decreaces.\n",
    "# For the frequency distrbutions as n increaces the rank increases due to more combinations \n",
    "    # but the highest frequency counts for the n-grams decrease.\n",
    "# smoothing distrubutes the probability lowering it for outcomes with a previously high \n",
    "    # probabilties but increasing previously low probabilites.\n",
    "# Zipf's Law increased the probabilty of unlikley or null probailities by combining them.\n",
    "# The perpexity outlines with examples which sentances are more or less likely"
   ]
  },
  {
   "cell_type": "markdown",
   "metadata": {},
   "source": [
    "# Question 16"
   ]
  },
  {
   "cell_type": "markdown",
   "metadata": {},
   "source": [
    "## Validation Dataset preprocessing\n",
    "The same preprocessing is applied to the validation dataset by calling the same functions. By testing a model on totally novel data, better test accuracy can be determined."
   ]
  },
  {
   "cell_type": "code",
   "execution_count": 83,
   "metadata": {},
   "outputs": [],
   "source": [
    "# Rename columns and insert label values\n",
    "df_validation = df_validation.rename(columns={\"Irrelevant\": \"Label\", \"I mentioned on Facebook that I was struggling for motivation to go for a run the other day, which has been translated by Tom’s great auntie as ‘Hayley can’t get out of bed’ and told to his grandma, who now thinks I’m a lazy, terrible person 🤣\" : \"Reviews\"}).replace('Positive', 1).replace('Negative', 0)\n",
    "\n",
    "# Delete unnecessary colums \n",
    "df_validation = df_validation.drop(columns=['Facebook', '3364'])"
   ]
  },
  {
   "cell_type": "code",
   "execution_count": 84,
   "metadata": {},
   "outputs": [],
   "source": [
    "# Numerate labels and transform into binary problem\n",
    "df_validation = df_validation[(df_validation['Label'] == 0) | (df_validation['Label'] == 1)].reset_index(drop=True)\n"
   ]
  },
  {
   "cell_type": "code",
   "execution_count": 85,
   "metadata": {},
   "outputs": [],
   "source": [
    "#df_validation"
   ]
  },
  {
   "cell_type": "code",
   "execution_count": 86,
   "metadata": {},
   "outputs": [],
   "source": [
    "# Call function labels_to_int_and_text_to_list\n",
    "val_reviews_lst, val_labels = labels_to_int_and_text_to_list(df_validation)"
   ]
  },
  {
   "cell_type": "code",
   "execution_count": 87,
   "metadata": {},
   "outputs": [
    {
     "name": "stdout",
     "output_type": "stream",
     "text": [
      "{<class 'str'>}\n"
     ]
    }
   ],
   "source": [
    "# Call function object_type_finder\n",
    "print(object_type_finder(val_reviews_lst))\n",
    "\n",
    "# val_reviews_lst only contains strings so I can continue with preprocessing\n",
    "## without converting all object types to strings"
   ]
  },
  {
   "cell_type": "code",
   "execution_count": 88,
   "metadata": {},
   "outputs": [],
   "source": [
    "# Call function lower_and_nonums\n",
    "val_low_nonum = lower_and_nonums(val_reviews_lst)"
   ]
  },
  {
   "cell_type": "code",
   "execution_count": 89,
   "metadata": {},
   "outputs": [],
   "source": [
    "# Call function nest_tokenize_no_punct\n",
    "val_no_punct_nested = nest_tokenize_no_punct(val_low_nonum)"
   ]
  },
  {
   "cell_type": "code",
   "execution_count": 90,
   "metadata": {},
   "outputs": [],
   "source": [
    "# Call stem_or_lem with validation set\n",
    "val_stemmed = stem_or_lem(val_no_punct_nested, 'stem')\n",
    "val_lem = stem_or_lem(val_no_punct_nested, 'lem')"
   ]
  },
  {
   "cell_type": "code",
   "execution_count": 91,
   "metadata": {},
   "outputs": [],
   "source": [
    "# VALIDATION DATAFRAMES\n",
    "# Call nested_lst_to_df for validation df \n",
    "val_df_stemmed = nested_lst_to_df(val_stemmed, val_labels)\n",
    "val_df_lem = nested_lst_to_df(val_lem, val_labels)"
   ]
  },
  {
   "cell_type": "code",
   "execution_count": 92,
   "metadata": {},
   "outputs": [
    {
     "data": {
      "text/html": [
       "<div>\n",
       "<style scoped>\n",
       "    .dataframe tbody tr th:only-of-type {\n",
       "        vertical-align: middle;\n",
       "    }\n",
       "\n",
       "    .dataframe tbody tr th {\n",
       "        vertical-align: top;\n",
       "    }\n",
       "\n",
       "    .dataframe thead th {\n",
       "        text-align: right;\n",
       "    }\n",
       "</style>\n",
       "<table border=\"1\" class=\"dataframe\">\n",
       "  <thead>\n",
       "    <tr style=\"text-align: right;\">\n",
       "      <th></th>\n",
       "      <th>Reviews</th>\n",
       "      <th>Label</th>\n",
       "      <th>Reviews</th>\n",
       "      <th>Label</th>\n",
       "    </tr>\n",
       "  </thead>\n",
       "  <tbody>\n",
       "    <tr>\n",
       "      <th>0</th>\n",
       "      <td>microsoft whi do i pay for word when it functi...</td>\n",
       "      <td>0</td>\n",
       "      <td>microsoft why do i pay for word when it functi...</td>\n",
       "      <td>0</td>\n",
       "    </tr>\n",
       "    <tr>\n",
       "      <th>1</th>\n",
       "      <td>csgo matchmak is so full of closet hack it a t...</td>\n",
       "      <td>0</td>\n",
       "      <td>csgo matchmaking is so full of closet hacking ...</td>\n",
       "      <td>0</td>\n",
       "    </tr>\n",
       "    <tr>\n",
       "      <th>2</th>\n",
       "      <td>hi eahelp i ve had madelein mccann in my cella...</td>\n",
       "      <td>0</td>\n",
       "      <td>hi eahelp i ve had madeleine mccann in my cell...</td>\n",
       "      <td>0</td>\n",
       "    </tr>\n",
       "    <tr>\n",
       "      <th>3</th>\n",
       "      <td>thank you eamaddennfl new te austin hooper in ...</td>\n",
       "      <td>1</td>\n",
       "      <td>thank you eamaddennfl new te austin hooper in ...</td>\n",
       "      <td>1</td>\n",
       "    </tr>\n",
       "    <tr>\n",
       "      <th>4</th>\n",
       "      <td>rocket leagu sea of thiev or rainbow six i lov...</td>\n",
       "      <td>1</td>\n",
       "      <td>rocket league sea of thief or rainbow six i lo...</td>\n",
       "      <td>1</td>\n",
       "    </tr>\n",
       "    <tr>\n",
       "      <th>...</th>\n",
       "      <td>...</td>\n",
       "      <td>...</td>\n",
       "      <td>...</td>\n",
       "      <td>...</td>\n",
       "    </tr>\n",
       "    <tr>\n",
       "      <th>538</th>\n",
       "      <td>guess i broke</td>\n",
       "      <td>1</td>\n",
       "      <td>guess i broke</td>\n",
       "      <td>1</td>\n",
       "    </tr>\n",
       "    <tr>\n",
       "      <th>539</th>\n",
       "      <td>pleas explain how thi is possibl how can they ...</td>\n",
       "      <td>0</td>\n",
       "      <td>please explain how this is possible how can th...</td>\n",
       "      <td>0</td>\n",
       "    </tr>\n",
       "    <tr>\n",
       "      <th>540</th>\n",
       "      <td>good on soni as much as i want to see the new ...</td>\n",
       "      <td>1</td>\n",
       "      <td>good on sony a much a i want to see the new p ...</td>\n",
       "      <td>1</td>\n",
       "    </tr>\n",
       "    <tr>\n",
       "      <th>541</th>\n",
       "      <td>today suck so it s time to drink wine n play b...</td>\n",
       "      <td>1</td>\n",
       "      <td>today sucked so it s time to drink wine n play...</td>\n",
       "      <td>1</td>\n",
       "    </tr>\n",
       "    <tr>\n",
       "      <th>542</th>\n",
       "      <td>bought a fraction of microsoft today small win</td>\n",
       "      <td>1</td>\n",
       "      <td>bought a fraction of microsoft today small win</td>\n",
       "      <td>1</td>\n",
       "    </tr>\n",
       "  </tbody>\n",
       "</table>\n",
       "<p>543 rows × 4 columns</p>\n",
       "</div>"
      ],
      "text/plain": [
       "                                               Reviews  Label  \\\n",
       "0    microsoft whi do i pay for word when it functi...      0   \n",
       "1    csgo matchmak is so full of closet hack it a t...      0   \n",
       "2    hi eahelp i ve had madelein mccann in my cella...      0   \n",
       "3    thank you eamaddennfl new te austin hooper in ...      1   \n",
       "4    rocket leagu sea of thiev or rainbow six i lov...      1   \n",
       "..                                                 ...    ...   \n",
       "538                                      guess i broke      1   \n",
       "539  pleas explain how thi is possibl how can they ...      0   \n",
       "540  good on soni as much as i want to see the new ...      1   \n",
       "541  today suck so it s time to drink wine n play b...      1   \n",
       "542     bought a fraction of microsoft today small win      1   \n",
       "\n",
       "                                               Reviews  Label  \n",
       "0    microsoft why do i pay for word when it functi...      0  \n",
       "1    csgo matchmaking is so full of closet hacking ...      0  \n",
       "2    hi eahelp i ve had madeleine mccann in my cell...      0  \n",
       "3    thank you eamaddennfl new te austin hooper in ...      1  \n",
       "4    rocket league sea of thief or rainbow six i lo...      1  \n",
       "..                                                 ...    ...  \n",
       "538                                      guess i broke      1  \n",
       "539  please explain how this is possible how can th...      0  \n",
       "540  good on sony a much a i want to see the new p ...      1  \n",
       "541  today sucked so it s time to drink wine n play...      1  \n",
       "542     bought a fraction of microsoft today small win      1  \n",
       "\n",
       "[543 rows x 4 columns]"
      ]
     },
     "metadata": {},
     "output_type": "display_data"
    }
   ],
   "source": [
    "val_complete_df = pd.concat([val_df_stemmed, val_df_lem ], axis=1)\n",
    "display(val_complete_df)"
   ]
  },
  {
   "cell_type": "markdown",
   "metadata": {},
   "source": [
    "## Improved Vectorization\n",
    "Different combinations of supplements to the TF-IDF technique are trailed. A range or minimum document frequency (MDF), the removal of a dictionary of 'stop words' (SW) and a range of N-grams are all tested.\n"
   ]
  },
  {
   "cell_type": "code",
   "execution_count": 93,
   "metadata": {},
   "outputs": [],
   "source": [
    "# Dictionary with descriptions as keys and iterative vectorization techniques\n",
    "vectors = { 'Base ': TfidfVectorizer(),\n",
    "            'SW ': TfidfVectorizer(stop_words=\"english\"),\n",
    "            'SW , MDF(2)': TfidfVectorizer(stop_words=\"english\", min_df=2),\n",
    "            'SW , MDF(3)': TfidfVectorizer(stop_words=\"english\", min_df=3),\n",
    "            'SW , MDF(5)': TfidfVectorizer(stop_words=\"english\", min_df=5),\n",
    "            'SW , MDF(2) , N-grams(1-2)': TfidfVectorizer(stop_words=\"english\", min_df=2, ngram_range=(1,2)),\n",
    "            'SW , MDF(5) , N-gram(1-3)': TfidfVectorizer(stop_words=\"english\", min_df=5, ngram_range=(1,3))}"
   ]
  },
  {
   "cell_type": "code",
   "execution_count": 94,
   "metadata": {},
   "outputs": [],
   "source": [
    "# This will record the results \n",
    "vec_results_dic = {'Vectorizer':[], 'Feature count':[], 'Training accuracy':[], 'Test accuracy':[]}"
   ]
  },
  {
   "cell_type": "code",
   "execution_count": 95,
   "metadata": {},
   "outputs": [],
   "source": [
    "for i, ii in vectors.items():\n",
    "    \n",
    "    # Create from stemmed vocabulary \n",
    "    ii.fit(s_train_x)\n",
    "    vs_train = ii.transform(s_train_x)\n",
    "    vs_test = ii.transform(s_test_x)\n",
    "    \n",
    "    # Fit the data to K-nearest neighbours model \n",
    "    knn = models['K-nearest neighbours'].fit(X=vs_train , y=s_train_y)\n",
    "    \n",
    "    # Add results to vec_results_dic\n",
    "    vec_results_dic['Vectorizer'].append(i)\n",
    "    vec_results_dic['Feature count'].append(len(ii.get_feature_names()))\n",
    "    vec_results_dic['Training accuracy'].append(\"{:.2%}\".format(knn.score(vs_train, s_train_y)))\n",
    "    vec_results_dic['Test accuracy'].append(\"{:.2%}\".format(knn.score(vs_test, s_test_y)))"
   ]
  },
  {
   "cell_type": "code",
   "execution_count": 96,
   "metadata": {},
   "outputs": [
    {
     "data": {
      "text/html": [
       "<div>\n",
       "<style scoped>\n",
       "    .dataframe tbody tr th:only-of-type {\n",
       "        vertical-align: middle;\n",
       "    }\n",
       "\n",
       "    .dataframe tbody tr th {\n",
       "        vertical-align: top;\n",
       "    }\n",
       "\n",
       "    .dataframe thead th {\n",
       "        text-align: right;\n",
       "    }\n",
       "</style>\n",
       "<table border=\"1\" class=\"dataframe\">\n",
       "  <thead>\n",
       "    <tr style=\"text-align: right;\">\n",
       "      <th></th>\n",
       "      <th>Vectorizer</th>\n",
       "      <th>Feature count</th>\n",
       "      <th>Training accuracy</th>\n",
       "      <th>Test accuracy</th>\n",
       "    </tr>\n",
       "  </thead>\n",
       "  <tbody>\n",
       "    <tr>\n",
       "      <th>0</th>\n",
       "      <td>Base</td>\n",
       "      <td>12536</td>\n",
       "      <td>95.97%</td>\n",
       "      <td>92.95%</td>\n",
       "    </tr>\n",
       "    <tr>\n",
       "      <th>1</th>\n",
       "      <td>SW</td>\n",
       "      <td>12325</td>\n",
       "      <td>95.12%</td>\n",
       "      <td>91.73%</td>\n",
       "    </tr>\n",
       "    <tr>\n",
       "      <th>2</th>\n",
       "      <td>SW , MDF(2)</td>\n",
       "      <td>9288</td>\n",
       "      <td>95.41%</td>\n",
       "      <td>91.86%</td>\n",
       "    </tr>\n",
       "    <tr>\n",
       "      <th>3</th>\n",
       "      <td>SW , MDF(3)</td>\n",
       "      <td>7912</td>\n",
       "      <td>95.53%</td>\n",
       "      <td>92.59%</td>\n",
       "    </tr>\n",
       "    <tr>\n",
       "      <th>4</th>\n",
       "      <td>SW , MDF(5)</td>\n",
       "      <td>5303</td>\n",
       "      <td>95.15%</td>\n",
       "      <td>92.04%</td>\n",
       "    </tr>\n",
       "    <tr>\n",
       "      <th>5</th>\n",
       "      <td>SW , MDF(2) , N-grams(1-2)</td>\n",
       "      <td>58624</td>\n",
       "      <td>94.52%</td>\n",
       "      <td>90.14%</td>\n",
       "    </tr>\n",
       "    <tr>\n",
       "      <th>6</th>\n",
       "      <td>SW , MDF(5) , N-gram(1-3)</td>\n",
       "      <td>20733</td>\n",
       "      <td>94.77%</td>\n",
       "      <td>90.65%</td>\n",
       "    </tr>\n",
       "  </tbody>\n",
       "</table>\n",
       "</div>"
      ],
      "text/plain": [
       "                   Vectorizer  Feature count Training accuracy Test accuracy\n",
       "0                       Base           12536            95.97%        92.95%\n",
       "1                         SW           12325            95.12%        91.73%\n",
       "2                 SW , MDF(2)           9288            95.41%        91.86%\n",
       "3                 SW , MDF(3)           7912            95.53%        92.59%\n",
       "4                 SW , MDF(5)           5303            95.15%        92.04%\n",
       "5  SW , MDF(2) , N-grams(1-2)          58624            94.52%        90.14%\n",
       "6   SW , MDF(5) , N-gram(1-3)          20733            94.77%        90.65%"
      ]
     },
     "metadata": {},
     "output_type": "display_data"
    }
   ],
   "source": [
    "vec_stem_results_df = pd.DataFrame.from_dict(vec_results_dic)\n",
    "display(vec_stem_results_df)"
   ]
  },
  {
   "cell_type": "markdown",
   "metadata": {},
   "source": [
    "* N-Grams increase the feature count yet to not improve the accuracy so they will not be used.\n",
    "* The SW MDF(3) combination has similar accuracy to the base TF-IDF but reduces the feature count by 37% which is good for processing power.\n"
   ]
  },
  {
   "cell_type": "markdown",
   "metadata": {},
   "source": [
    "## Cross Validation"
   ]
  },
  {
   "cell_type": "markdown",
   "metadata": {},
   "source": [
    "Cross Validation is used to compare different models, it also rotates the train-test data improving variance ."
   ]
  },
  {
   "cell_type": "code",
   "execution_count": 97,
   "metadata": {},
   "outputs": [],
   "source": [
    "# Numbers of folds == 5\n",
    "c_validate = KFold(n_splits=5, random_state=42, shuffle=True)\n",
    "\n",
    "# drop decision tree and add SVC\n",
    "models2 = {'K-nearest neighbours': KNeighborsClassifier(),\n",
    "           'MultinomialNB': MultinomialNB(),\n",
    "           'Linear SVC' :  LinearSVC() }\n",
    "\n",
    "# Create vocabulary with the optimal vectorizer (SW, MDF(3))\n",
    "optimal_vec_fitted =  TfidfVectorizer(stop_words=\"english\", min_df=3).fit(s_train_x)\n",
    "opt_vs_train = optimal_vec_fitted.transform(s_train_x)\n",
    "opt_vs_test = optimal_vec_fitted.transform(s_test_x)\n",
    "\n",
    "cross_val_res_dic = {'Classifier':[], 'Training accuracy':[], 'Standard deviation':[] }"
   ]
  },
  {
   "cell_type": "code",
   "execution_count": 98,
   "metadata": {},
   "outputs": [],
   "source": [
    "for i, ii in models2.items():\n",
    "    # Perform cross-validation\n",
    "    cv = cross_val_score(estimator=ii, X=opt_vs_train, y=s_train_y, cv=c_validate)\n",
    "    \n",
    "    # Add results to cross_val_res_dic\n",
    "    cross_val_res_dic['Classifier'].append(i)\n",
    "    cross_val_res_dic['Training accuracy'].append(\"{:.2%}\".format(cv.mean()))\n",
    "    cross_val_res_dic['Standard deviation'].append(\"{:.2%}\".format(cv.std()))\n",
    "    "
   ]
  },
  {
   "cell_type": "code",
   "execution_count": 99,
   "metadata": {},
   "outputs": [
    {
     "data": {
      "text/html": [
       "<div>\n",
       "<style scoped>\n",
       "    .dataframe tbody tr th:only-of-type {\n",
       "        vertical-align: middle;\n",
       "    }\n",
       "\n",
       "    .dataframe tbody tr th {\n",
       "        vertical-align: top;\n",
       "    }\n",
       "\n",
       "    .dataframe thead th {\n",
       "        text-align: right;\n",
       "    }\n",
       "</style>\n",
       "<table border=\"1\" class=\"dataframe\">\n",
       "  <thead>\n",
       "    <tr style=\"text-align: right;\">\n",
       "      <th></th>\n",
       "      <th>Classifier</th>\n",
       "      <th>Training accuracy</th>\n",
       "      <th>Standard deviation</th>\n",
       "    </tr>\n",
       "  </thead>\n",
       "  <tbody>\n",
       "    <tr>\n",
       "      <th>0</th>\n",
       "      <td>K-nearest neighbours</td>\n",
       "      <td>88.20%</td>\n",
       "      <td>0.25%</td>\n",
       "    </tr>\n",
       "    <tr>\n",
       "      <th>1</th>\n",
       "      <td>MultinomialNB</td>\n",
       "      <td>85.78%</td>\n",
       "      <td>0.20%</td>\n",
       "    </tr>\n",
       "    <tr>\n",
       "      <th>2</th>\n",
       "      <td>Linear SVC</td>\n",
       "      <td>89.52%</td>\n",
       "      <td>0.20%</td>\n",
       "    </tr>\n",
       "  </tbody>\n",
       "</table>\n",
       "</div>"
      ],
      "text/plain": [
       "             Classifier Training accuracy Standard deviation\n",
       "0  K-nearest neighbours            88.20%              0.25%\n",
       "1         MultinomialNB            85.78%              0.20%\n",
       "2            Linear SVC            89.52%              0.20%"
      ]
     },
     "metadata": {},
     "output_type": "display_data"
    }
   ],
   "source": [
    "df_cross_val_res = pd.DataFrame.from_dict(cross_val_res_dic)\n",
    "display(df_cross_val_res)"
   ]
  },
  {
   "cell_type": "markdown",
   "metadata": {},
   "source": [
    "* The linear SVC has the highest accuracy and lowest standard deviation so it is the clear winner"
   ]
  },
  {
   "cell_type": "markdown",
   "metadata": {},
   "source": [
    "## Grid Search"
   ]
  },
  {
   "cell_type": "markdown",
   "metadata": {},
   "source": [
    "Grid Search is used to optimise tuning the model hyperparamaters, it trails all combinations and returns the optimal configuration."
   ]
  },
  {
   "cell_type": "code",
   "execution_count": 100,
   "metadata": {},
   "outputs": [
    {
     "name": "stdout",
     "output_type": "stream",
     "text": [
      "{'C': 1.0, 'class_weight': None, 'dual': True, 'fit_intercept': True, 'intercept_scaling': 1, 'loss': 'squared_hinge', 'max_iter': 1000, 'multi_class': 'ovr', 'penalty': 'l2', 'random_state': None, 'tol': 0.0001, 'verbose': 0}\n"
     ]
    }
   ],
   "source": [
    "# Show hyper-parameters for this type of model\n",
    "print(LinearSVC().get_params())"
   ]
  },
  {
   "cell_type": "code",
   "execution_count": 101,
   "metadata": {},
   "outputs": [],
   "source": [
    "# import a non-scaled RBF model\n",
    "svc = models2['Linear SVC']\n",
    "\n",
    "# This is the regulization hyper-parameter which will determine whether the model if overfit or underfit\n",
    "c = np.array([0.1, 1, 2.5, 5])\n",
    "\n",
    "grid = GridSearchCV(estimator=svc, param_grid=dict(C=c))\n",
    "\n",
    "grid.fit(X=opt_vs_train, y=s_train_y);"
   ]
  },
  {
   "cell_type": "code",
   "execution_count": 102,
   "metadata": {},
   "outputs": [
    {
     "name": "stdout",
     "output_type": "stream",
     "text": [
      "Best values for {'C': 2.5}\n",
      "training accuracy: 89.82%\n",
      "Test accuracy: 89.87%\n"
     ]
    }
   ],
   "source": [
    "print(f'Best values for {grid.best_params_}')\n",
    "print(f'training accuracy: {grid.best_score_:.2%}')\n",
    "print(f'Test accuracy: {grid.score(opt_vs_test, s_test_y):.2%}')"
   ]
  },
  {
   "cell_type": "markdown",
   "metadata": {},
   "source": [
    "* a C value of 2.5 outputs the high test/train accuracy without overfitting."
   ]
  },
  {
   "cell_type": "code",
   "execution_count": 103,
   "metadata": {},
   "outputs": [],
   "source": [
    "# Fit the optimized tuned model with the optimized data\n",
    "opt_scv = LinearSVC(C=2.5).fit(X=opt_vs_train, y=s_train_y)"
   ]
  },
  {
   "cell_type": "markdown",
   "metadata": {},
   "source": [
    "## Confusion Matrix and validation dataset"
   ]
  },
  {
   "cell_type": "code",
   "execution_count": 104,
   "metadata": {},
   "outputs": [],
   "source": [
    "# Tranform the stemmed validation dataset \n",
    "stemmed_val_with_opt_vector = optimal_vec_fitted.transform(val_df_stemmed['Reviews'])"
   ]
  },
  {
   "cell_type": "code",
   "execution_count": 105,
   "metadata": {},
   "outputs": [],
   "source": [
    "# Get label predictions for validation dataset\n",
    "pred_val_y = opt_scv.predict(stemmed_val_with_opt_vector) "
   ]
  },
  {
   "cell_type": "code",
   "execution_count": 106,
   "metadata": {},
   "outputs": [],
   "source": [
    "# convert actual validation label to array\n",
    "actual_val_y = val_labels.to_numpy()"
   ]
  },
  {
   "cell_type": "code",
   "execution_count": 107,
   "metadata": {},
   "outputs": [],
   "source": [
    "def func_met_df(a, p):\n",
    "    '''\n",
    "    Calculates metrics and returns dataframe\n",
    "    '''\n",
    "    met_lst = [['Accuracy', metrics.accuracy_score(a, p)],\n",
    "               ['Precision', metrics.precision_score(a, p)],\n",
    "               ['Sensitivity/recall', metrics.recall_score(a, p)],\n",
    "               ['Specificity', metrics.recall_score(a, p, pos_label=0)],\n",
    "               ['F1_score', metrics.f1_score(a, p)]]\n",
    "                            \n",
    "    \n",
    "    df = pd.DataFrame(met_lst)\n",
    "    df.columns =['Metric', 'Value']\n",
    "    return df\n"
   ]
  },
  {
   "cell_type": "code",
   "execution_count": 108,
   "metadata": {},
   "outputs": [],
   "source": [
    "# Call met_df with actual and predicted labels\n",
    "met_df = func_met_df(actual_val_y, pred_val_y )"
   ]
  },
  {
   "cell_type": "code",
   "execution_count": 109,
   "metadata": {},
   "outputs": [
    {
     "data": {
      "text/html": [
       "<div>\n",
       "<style scoped>\n",
       "    .dataframe tbody tr th:only-of-type {\n",
       "        vertical-align: middle;\n",
       "    }\n",
       "\n",
       "    .dataframe tbody tr th {\n",
       "        vertical-align: top;\n",
       "    }\n",
       "\n",
       "    .dataframe thead th {\n",
       "        text-align: right;\n",
       "    }\n",
       "</style>\n",
       "<table border=\"1\" class=\"dataframe\">\n",
       "  <thead>\n",
       "    <tr style=\"text-align: right;\">\n",
       "      <th></th>\n",
       "      <th>Metric</th>\n",
       "      <th>Value</th>\n",
       "    </tr>\n",
       "  </thead>\n",
       "  <tbody>\n",
       "    <tr>\n",
       "      <th>0</th>\n",
       "      <td>Accuracy</td>\n",
       "      <td>0.952118</td>\n",
       "    </tr>\n",
       "    <tr>\n",
       "      <th>1</th>\n",
       "      <td>Precision</td>\n",
       "      <td>0.953069</td>\n",
       "    </tr>\n",
       "    <tr>\n",
       "      <th>2</th>\n",
       "      <td>Sensitivity/recall</td>\n",
       "      <td>0.953069</td>\n",
       "    </tr>\n",
       "    <tr>\n",
       "      <th>3</th>\n",
       "      <td>Specificity</td>\n",
       "      <td>0.951128</td>\n",
       "    </tr>\n",
       "    <tr>\n",
       "      <th>4</th>\n",
       "      <td>F1_score</td>\n",
       "      <td>0.953069</td>\n",
       "    </tr>\n",
       "  </tbody>\n",
       "</table>\n",
       "</div>"
      ],
      "text/plain": [
       "               Metric     Value\n",
       "0            Accuracy  0.952118\n",
       "1           Precision  0.953069\n",
       "2  Sensitivity/recall  0.953069\n",
       "3         Specificity  0.951128\n",
       "4            F1_score  0.953069"
      ]
     },
     "execution_count": 109,
     "metadata": {},
     "output_type": "execute_result"
    }
   ],
   "source": [
    "met_df"
   ]
  },
  {
   "cell_type": "code",
   "execution_count": 110,
   "metadata": {},
   "outputs": [
    {
     "data": {
      "image/png": "[encoded data removed]",
      "text/plain": [
       "<Figure size 432x288 with 2 Axes>"
      ]
     },
     "metadata": {
      "needs_background": "light"
     },
     "output_type": "display_data"
    }
   ],
   "source": [
    "# Import and plot confusion matrix \n",
    "confusion_matrix = metrics.confusion_matrix(actual_val_y, pred_val_y)\n",
    "\n",
    "cm_display = metrics.ConfusionMatrixDisplay(confusion_matrix = confusion_matrix, display_labels = [False, True])\n",
    "\n",
    "cm_display.plot()\n",
    "plt.show()"
   ]
  },
  {
   "cell_type": "markdown",
   "metadata": {},
   "source": [
    "On totally novel data the model performs well. The count of false negatives and positives is low, both at 13. Furthermore, the model scores well in all the performance metrics seen in the dataframe above."
   ]
  },
  {
   "cell_type": "markdown",
   "metadata": {},
   "source": [
    "# Markdown word count \n",
    "* 2499"
   ]
  },
  {
   "cell_type": "markdown",
   "metadata": {},
   "source": [
    "# References\n",
    "* [Ambiguity in NLP, 16/11/22](https://cs.nyu.edu/~davise/ai/ambiguity.html)\n",
    "\n",
    "* [MNB - strengths and weaknesses, Great Learning, 22/11/22](https://www.fromthegenesis.com/pros-and-cons-of-k-nearest-neighbors/)\n",
    "\n",
    "* [KNN - strengths and weaknesses, Genesis, 22/11/22](https://www.fromthegenesis.com/pros-and-cons-of-k-nearest-neighbors/)\n",
    "* [Q10 Q11 Q13 Q14 Minakshee Narayankar, 23/11/22](https://medium.com/codex/statistical-language-model-n-gram-to-calculate-the-probability-of-word-sequence-using-python-2e54a1084250)\n",
    "* Visulazation of frequency distribution, Lab session on Text Normalization and Language Model (part1), Mahsa Abazari, 23/11/22\n",
    "* [Q14, mujjiga, 24/11/22](https://stackoverflow.com/questions/54941966/how-can-i-calculate-perplexity-using-nltk)\n",
    "* [Confusion matrix and metrics, W3Schools, 19/11/22](https://www.w3schools.com/python/python_ml_confusion_matrix.asp)"
   ]
  },
  {
   "cell_type": "code",
   "execution_count": null,
   "metadata": {},
   "outputs": [],
   "source": []
  }
 ],
 "metadata": {
  "kernelspec": {
   "display_name": "Python 3",
   "language": "python",
   "name": "python3"
  },
  "language_info": {
   "codemirror_mode": {
    "name": "ipython",
    "version": 3
   },
   "file_extension": ".py",
   "mimetype": "text/x-python",
   "name": "python",
   "nbconvert_exporter": "python",
   "pygments_lexer": "ipython3",
   "version": "3.8.3"
  }
 },
 "nbformat": 4,
 "nbformat_minor": 4
}
